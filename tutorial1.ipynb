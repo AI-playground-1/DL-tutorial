{
 "cells": [
  {
   "cell_type": "code",
   "execution_count": 1,
   "metadata": {},
   "outputs": [
    {
     "name": "stderr",
     "output_type": "stream",
     "text": [
      "/home/piotr_gnome/.conda/envs/cuda/lib/python3.7/site-packages/ipykernel_launcher.py:14: DeprecationWarning: `set_matplotlib_formats` is deprecated since IPython 7.23, directly use `matplotlib_inline.backend_inline.set_matplotlib_formats()`\n",
      "  \n"
     ]
    }
   ],
   "source": [
    "import time\n",
    "\n",
    "import matplotlib.pyplot as plt\n",
    "import numpy as np\n",
    "import torch\n",
    "import torch.nn as nn\n",
    "import torch.utils.data as data\n",
    "\n",
    "# %matplotlib inline\n",
    "from IPython.display import set_matplotlib_formats\n",
    "from matplotlib.colors import to_rgba\n",
    "from tqdm.notebook import tqdm  # Progress bar\n",
    "\n",
    "set_matplotlib_formats(\"svg\", \"pdf\")"
   ]
  },
  {
   "cell_type": "code",
   "execution_count": 2,
   "metadata": {},
   "outputs": [
    {
     "name": "stdout",
     "output_type": "stream",
     "text": [
      "Using torch 1.10.1\n"
     ]
    }
   ],
   "source": [
    "print(\"Using torch\", torch.__version__)"
   ]
  },
  {
   "cell_type": "code",
   "execution_count": 3,
   "metadata": {},
   "outputs": [
    {
     "data": {
      "text/plain": [
       "<torch._C.Generator at 0x7fda10d525f0>"
      ]
     },
     "execution_count": 3,
     "metadata": {},
     "output_type": "execute_result"
    }
   ],
   "source": [
    "torch.manual_seed(42)  # Setting the seed"
   ]
  },
  {
   "cell_type": "code",
   "execution_count": 4,
   "metadata": {},
   "outputs": [
    {
     "name": "stdout",
     "output_type": "stream",
     "text": [
      "tensor([[[0.8823, 0.9150, 0.3829, 0.9593],\n",
      "         [0.3904, 0.6009, 0.2566, 0.7936],\n",
      "         [0.9408, 0.1332, 0.9346, 0.5936]],\n",
      "\n",
      "        [[0.8694, 0.5677, 0.7411, 0.4294],\n",
      "         [0.8854, 0.5739, 0.2666, 0.6274],\n",
      "         [0.2696, 0.4414, 0.2969, 0.8317]]])\n"
     ]
    }
   ],
   "source": [
    "x = torch.rand(2, 3, 4)\n",
    "print(x)"
   ]
  },
  {
   "cell_type": "code",
   "execution_count": 5,
   "metadata": {},
   "outputs": [
    {
     "data": {
      "text/plain": [
       "torch.Size([2, 3, 4])"
      ]
     },
     "execution_count": 5,
     "metadata": {},
     "output_type": "execute_result"
    }
   ],
   "source": [
    "x.shape"
   ]
  },
  {
   "cell_type": "code",
   "execution_count": 6,
   "metadata": {},
   "outputs": [
    {
     "name": "stdout",
     "output_type": "stream",
     "text": [
      "tensor([[1., 2.],\n",
      "        [3., 4.]])\n"
     ]
    }
   ],
   "source": [
    "x = torch.Tensor([[1, 2], [3, 4]])\n",
    "print(x)"
   ]
  },
  {
   "cell_type": "code",
   "execution_count": 7,
   "metadata": {},
   "outputs": [
    {
     "name": "stdout",
     "output_type": "stream",
     "text": [
      "tensor([[[0.1053, 0.2695, 0.3588, 0.1994],\n",
      "         [0.5472, 0.0062, 0.9516, 0.0753],\n",
      "         [0.8860, 0.5832, 0.3376, 0.8090]],\n",
      "\n",
      "        [[0.5779, 0.9040, 0.5547, 0.3423],\n",
      "         [0.6343, 0.3644, 0.7104, 0.9464],\n",
      "         [0.7890, 0.2814, 0.7886, 0.5895]]])\n"
     ]
    }
   ],
   "source": [
    "x = torch.rand(2, 3, 4)\n",
    "print(x)"
   ]
  },
  {
   "cell_type": "code",
   "execution_count": 8,
   "metadata": {},
   "outputs": [
    {
     "name": "stdout",
     "output_type": "stream",
     "text": [
      "Shape: torch.Size([2, 3, 4])\n",
      "Size: torch.Size([2, 3, 4])\n",
      "Size: 2 3 4\n"
     ]
    }
   ],
   "source": [
    "shape = x.shape\n",
    "print(\"Shape:\", x.shape)\n",
    "\n",
    "size = x.size()\n",
    "print(\"Size:\", size)\n",
    "\n",
    "dim1, dim2, dim3 = x.size()\n",
    "print(\"Size:\", dim1, dim2, dim3)"
   ]
  },
  {
   "cell_type": "code",
   "execution_count": 9,
   "metadata": {},
   "outputs": [
    {
     "name": "stdout",
     "output_type": "stream",
     "text": [
      "Numpy array: [[1 2]\n",
      " [3 4]]\n",
      "PyTorch tensor: tensor([[1, 2],\n",
      "        [3, 4]])\n"
     ]
    }
   ],
   "source": [
    "np_arr = np.array([[1, 2], [3, 4]])\n",
    "tensor = torch.from_numpy(np_arr)\n",
    "\n",
    "print(\"Numpy array:\", np_arr)\n",
    "print(\"PyTorch tensor:\", tensor)"
   ]
  },
  {
   "cell_type": "code",
   "execution_count": 10,
   "metadata": {},
   "outputs": [
    {
     "name": "stdout",
     "output_type": "stream",
     "text": [
      "PyTorch tensor: tensor([0, 1, 2, 3])\n",
      "Numpy array: [0 1 2 3]\n"
     ]
    }
   ],
   "source": [
    "tensor = torch.arange(4)\n",
    "np_arr = tensor.numpy()\n",
    "\n",
    "print(\"PyTorch tensor:\", tensor)\n",
    "print(\"Numpy array:\", np_arr)"
   ]
  },
  {
   "cell_type": "code",
   "execution_count": 11,
   "metadata": {},
   "outputs": [
    {
     "name": "stdout",
     "output_type": "stream",
     "text": [
      "X1 tensor([[0.7539, 0.1952, 0.0050],\n",
      "        [0.3068, 0.1165, 0.9103]])\n",
      "X2 tensor([[0.6440, 0.7071, 0.6581],\n",
      "        [0.4913, 0.8913, 0.1447]])\n",
      "Y tensor([[1.3979, 0.9024, 0.6632],\n",
      "        [0.7981, 1.0078, 1.0550]])\n"
     ]
    }
   ],
   "source": [
    "x1 = torch.rand(2, 3)\n",
    "x2 = torch.rand(2, 3)\n",
    "y = x1 + x2\n",
    "\n",
    "print(\"X1\", x1)\n",
    "print(\"X2\", x2)\n",
    "print(\"Y\", y)"
   ]
  },
  {
   "cell_type": "code",
   "execution_count": 12,
   "metadata": {},
   "outputs": [
    {
     "data": {
      "text/plain": [
       "1.6601"
      ]
     },
     "execution_count": 12,
     "metadata": {},
     "output_type": "execute_result"
    }
   ],
   "source": [
    "0.9811+0.679"
   ]
  },
  {
   "cell_type": "code",
   "execution_count": 13,
   "metadata": {},
   "outputs": [
    {
     "name": "stdout",
     "output_type": "stream",
     "text": [
      "X1 (before) tensor([[0.5315, 0.1587, 0.6542],\n",
      "        [0.3278, 0.6532, 0.3958]])\n",
      "X2 (before) tensor([[0.9147, 0.2036, 0.2018],\n",
      "        [0.2018, 0.9497, 0.6666]])\n",
      "X1 (after) tensor([[0.5315, 0.1587, 0.6542],\n",
      "        [0.3278, 0.6532, 0.3958]])\n",
      "X2 (after) tensor([[1.4462, 0.3624, 0.8560],\n",
      "        [0.5296, 1.6029, 1.0625]])\n"
     ]
    }
   ],
   "source": [
    "x1 = torch.rand(2, 3)\n",
    "x2 = torch.rand(2, 3)\n",
    "print(\"X1 (before)\", x1)\n",
    "print(\"X2 (before)\", x2)\n",
    "\n",
    "x2.add_(x1)\n",
    "print(\"X1 (after)\", x1)\n",
    "print(\"X2 (after)\", x2)"
   ]
  },
  {
   "cell_type": "code",
   "execution_count": 14,
   "metadata": {},
   "outputs": [
    {
     "name": "stdout",
     "output_type": "stream",
     "text": [
      "X tensor([0, 1, 2, 3, 4, 5])\n"
     ]
    }
   ],
   "source": [
    "x = torch.arange(6)\n",
    "print(\"X\", x)"
   ]
  },
  {
   "cell_type": "code",
   "execution_count": 15,
   "metadata": {},
   "outputs": [
    {
     "name": "stdout",
     "output_type": "stream",
     "text": [
      "X tensor([[0, 1, 2],\n",
      "        [3, 4, 5]])\n"
     ]
    }
   ],
   "source": [
    "x = x.view(2, 3)\n",
    "print(\"X\", x)"
   ]
  },
  {
   "cell_type": "code",
   "execution_count": 16,
   "metadata": {},
   "outputs": [
    {
     "name": "stdout",
     "output_type": "stream",
     "text": [
      "X tensor([[0, 3],\n",
      "        [1, 4],\n",
      "        [2, 5]])\n"
     ]
    }
   ],
   "source": [
    "x = x.permute(1, 0)  # Swapping dimension 0 and 1\n",
    "print(\"X\", x)"
   ]
  },
  {
   "cell_type": "code",
   "execution_count": 17,
   "metadata": {},
   "outputs": [
    {
     "name": "stdout",
     "output_type": "stream",
     "text": [
      "False\n"
     ]
    },
    {
     "data": {
      "text/plain": [
       "torch.Size([3])"
      ]
     },
     "execution_count": 17,
     "metadata": {},
     "output_type": "execute_result"
    }
   ],
   "source": [
    "x = torch.ones((3))\n",
    "print(x.requires_grad)\n",
    "x.shape"
   ]
  },
  {
   "cell_type": "code",
   "execution_count": 18,
   "metadata": {},
   "outputs": [
    {
     "name": "stdout",
     "output_type": "stream",
     "text": [
      "True\n"
     ]
    }
   ],
   "source": [
    "x.requires_grad_(True)\n",
    "print(x.requires_grad)"
   ]
  },
  {
   "cell_type": "code",
   "execution_count": 19,
   "metadata": {},
   "outputs": [
    {
     "name": "stdout",
     "output_type": "stream",
     "text": [
      "X tensor([0., 1., 2.], requires_grad=True)\n"
     ]
    }
   ],
   "source": [
    "x = torch.arange(3, dtype=torch.float32, requires_grad=True)  # Only float tensors can have gradients\n",
    "print(\"X\", x)"
   ]
  },
  {
   "cell_type": "code",
   "execution_count": 20,
   "metadata": {},
   "outputs": [
    {
     "name": "stdout",
     "output_type": "stream",
     "text": [
      "Y tensor(12.6667, grad_fn=<MeanBackward0>)\n"
     ]
    }
   ],
   "source": [
    "a = x + 2\n",
    "b = a ** 2\n",
    "c = b + 3\n",
    "y = c.mean()\n",
    "print(\"Y\", y)"
   ]
  },
  {
   "cell_type": "code",
   "execution_count": 21,
   "metadata": {},
   "outputs": [
    {
     "name": "stdout",
     "output_type": "stream",
     "text": [
      "True\n"
     ]
    }
   ],
   "source": [
    "print(c.requires_grad)"
   ]
  },
  {
   "cell_type": "code",
   "execution_count": 22,
   "metadata": {},
   "outputs": [
    {
     "name": "stderr",
     "output_type": "stream",
     "text": [
      "/home/piotr_gnome/.conda/envs/cuda/lib/python3.7/site-packages/torch/autograd/__init__.py:156: UserWarning: CUDA initialization: CUDA unknown error - this may be due to an incorrectly set up environment, e.g. changing env variable CUDA_VISIBLE_DEVICES after program start. Setting the available devices to be zero. (Triggered internally at  /opt/conda/conda-bld/pytorch_1639180543123/work/c10/cuda/CUDAFunctions.cpp:112.)\n",
      "  allow_unreachable=True, accumulate_grad=True)  # allow_unreachable flag\n"
     ]
    }
   ],
   "source": [
    "y.backward()"
   ]
  },
  {
   "cell_type": "code",
   "execution_count": 23,
   "metadata": {},
   "outputs": [
    {
     "name": "stdout",
     "output_type": "stream",
     "text": [
      "tensor([1.3333, 2.0000, 2.6667])\n"
     ]
    }
   ],
   "source": [
    "print(x.grad)"
   ]
  },
  {
   "cell_type": "code",
   "execution_count": 24,
   "metadata": {},
   "outputs": [
    {
     "name": "stdout",
     "output_type": "stream",
     "text": [
      "None\n"
     ]
    },
    {
     "name": "stderr",
     "output_type": "stream",
     "text": [
      "/home/piotr_gnome/.conda/envs/cuda/lib/python3.7/site-packages/torch/_tensor.py:1013: UserWarning: The .grad attribute of a Tensor that is not a leaf Tensor is being accessed. Its .grad attribute won't be populated during autograd.backward(). If you indeed want the .grad field to be populated for a non-leaf Tensor, use .retain_grad() on the non-leaf Tensor. If you access the non-leaf Tensor by mistake, make sure you access the leaf Tensor instead. See github.com/pytorch/pytorch/pull/30531 for more informations. (Triggered internally at  /opt/conda/conda-bld/pytorch_1639180543123/work/build/aten/src/ATen/core/TensorBody.h:417.)\n",
      "  return self._grad\n"
     ]
    }
   ],
   "source": [
    "print(y.grad)"
   ]
  },
  {
   "cell_type": "code",
   "execution_count": 25,
   "metadata": {},
   "outputs": [
    {
     "name": "stdout",
     "output_type": "stream",
     "text": [
      "<AddBackward0 object at 0x7fdac86f84d0>\n"
     ]
    }
   ],
   "source": [
    "print(c.grad_fn)"
   ]
  },
  {
   "cell_type": "code",
   "execution_count": 26,
   "metadata": {},
   "outputs": [
    {
     "name": "stdout",
     "output_type": "stream",
     "text": [
      "Is the GPU available? False\n"
     ]
    }
   ],
   "source": [
    "gpu_avail = torch.cuda.is_available()\n",
    "print(f\"Is the GPU available? {gpu_avail}\")"
   ]
  },
  {
   "cell_type": "code",
   "execution_count": 27,
   "metadata": {},
   "outputs": [
    {
     "name": "stdout",
     "output_type": "stream",
     "text": [
      "Device cpu\n"
     ]
    }
   ],
   "source": [
    "device = torch.device(\"cuda\") if torch.cuda.is_available() else torch.device(\"cpu\")\n",
    "print(\"Device\", device)"
   ]
  },
  {
   "cell_type": "code",
   "execution_count": 28,
   "metadata": {},
   "outputs": [
    {
     "name": "stdout",
     "output_type": "stream",
     "text": [
      "X tensor([[0., 0., 0.],\n",
      "        [0., 0., 0.]])\n"
     ]
    }
   ],
   "source": [
    "x = torch.zeros(2, 3)\n",
    "x = x.to(device)\n",
    "print(\"X\", x)"
   ]
  },
  {
   "cell_type": "code",
   "execution_count": 29,
   "metadata": {},
   "outputs": [
    {
     "name": "stdout",
     "output_type": "stream",
     "text": [
      "CPU time: 1.09465s\n"
     ]
    }
   ],
   "source": [
    "x = torch.randn(5000, 5000)\n",
    "\n",
    "# CPU version\n",
    "start_time = time.time()\n",
    "_ = torch.matmul(x, x)\n",
    "end_time = time.time()\n",
    "print(f\"CPU time: {(end_time - start_time):6.5f}s\")\n",
    "\n",
    "# GPU version\n",
    "if torch.cuda.is_available():\n",
    "    x = x.to(device)\n",
    "    # CUDA is asynchronous, so we need to use different timing functions\n",
    "    start = torch.cuda.Event(enable_timing=True)\n",
    "    end = torch.cuda.Event(enable_timing=True)\n",
    "    start.record()\n",
    "    _ = torch.matmul(x, x)\n",
    "    end.record()\n",
    "    torch.cuda.synchronize()  # Waits for everything to finish running on the GPU\n",
    "    print(f\"GPU time: {0.001 * start.elapsed_time(end):6.5f}s\")  # Milliseconds to seconds"
   ]
  },
  {
   "cell_type": "code",
   "execution_count": 30,
   "metadata": {},
   "outputs": [],
   "source": [
    "# GPU operations have a separate seed we also want to set\n",
    "if torch.cuda.is_available():\n",
    "    torch.cuda.manual_seed(42)\n",
    "    torch.cuda.manual_seed_all(42)\n",
    "\n",
    "# Additionally, some operations on a GPU are implemented stochastic for efficiency\n",
    "# We want to ensure that all operations are deterministic on GPU (if used) for reproducibility\n",
    "torch.backends.cudnn.determinstic = True\n",
    "torch.backends.cudnn.benchmark = False"
   ]
  },
  {
   "cell_type": "markdown",
   "metadata": {},
   "source": [
    "# XOR"
   ]
  },
  {
   "cell_type": "code",
   "execution_count": 31,
   "metadata": {},
   "outputs": [],
   "source": [
    "import torch.nn as nn\n",
    "import torch.functional as F"
   ]
  },
  {
   "cell_type": "code",
   "execution_count": 32,
   "metadata": {},
   "outputs": [],
   "source": [
    "class SimpleClassifier(nn.Module):\n",
    "    def __init__(self, num_inputs, num_hidden, num_outputs):\n",
    "        super().__init__()\n",
    "        # Initialize the modules we need to build the network\n",
    "        self.linear1 = nn.Linear(num_inputs, num_hidden)\n",
    "        self.act_fn = nn.Tanh()\n",
    "        self.linear2 = nn.Linear(num_hidden, num_outputs)\n",
    "\n",
    "    def forward(self, x):\n",
    "        # Perform the calculation of the model to determine the prediction\n",
    "        x = self.linear1(x)\n",
    "        x = self.act_fn(x)\n",
    "        x = self.linear2(x)\n",
    "        return x"
   ]
  },
  {
   "cell_type": "code",
   "execution_count": 33,
   "metadata": {},
   "outputs": [
    {
     "name": "stdout",
     "output_type": "stream",
     "text": [
      "SimpleClassifier(\n",
      "  (linear1): Linear(in_features=2, out_features=4, bias=True)\n",
      "  (act_fn): Tanh()\n",
      "  (linear2): Linear(in_features=4, out_features=1, bias=True)\n",
      ")\n"
     ]
    }
   ],
   "source": [
    "model = SimpleClassifier(num_inputs=2, num_hidden=4, num_outputs=1)\n",
    "# Printing a module shows all its submodules\n",
    "print(model)"
   ]
  },
  {
   "cell_type": "code",
   "execution_count": 34,
   "metadata": {},
   "outputs": [
    {
     "name": "stdout",
     "output_type": "stream",
     "text": [
      "Parameter linear1.weight, shape torch.Size([4, 2])\n",
      "Parameter linear1.bias, shape torch.Size([4])\n",
      "Parameter linear2.weight, shape torch.Size([1, 4])\n",
      "Parameter linear2.bias, shape torch.Size([1])\n"
     ]
    }
   ],
   "source": [
    "for name, param in model.named_parameters():\n",
    "    print(f\"Parameter {name}, shape {param.shape}\")"
   ]
  },
  {
   "cell_type": "code",
   "execution_count": 35,
   "metadata": {},
   "outputs": [],
   "source": [
    "class XORDataset(data.Dataset):\n",
    "    def __init__(self, size, std=0.1):\n",
    "        \"\"\"\n",
    "        Inputs:\n",
    "            size - Number of data points we want to generate\n",
    "            std - Standard deviation of the noise (see generate_continuous_xor function)\n",
    "        \"\"\"\n",
    "        super().__init__()\n",
    "        self.size = size\n",
    "        self.std = std\n",
    "        self.generate_continuous_xor()\n",
    "\n",
    "    def generate_continuous_xor(self):\n",
    "        # Each data point in the XOR dataset has two variables, x and y, that can be either 0 or 1\n",
    "        # The label is their XOR combination, i.e. 1 if only x or only y is 1 while the other is 0.\n",
    "        # If x=y, the label is 0.\n",
    "        data = torch.randint(low=0, high=2, size=(self.size, 2), dtype=torch.float32)\n",
    "        label = (data.sum(dim=1) == 1).to(torch.long)\n",
    "        # To make it slightly more challenging, we add a bit of gaussian noise to the data points.\n",
    "        data += self.std * torch.randn(data.shape)\n",
    "\n",
    "        self.data = data\n",
    "        self.label = label\n",
    "\n",
    "    def __len__(self):\n",
    "        # Number of data point we have. Alternatively self.data.shape[0], or self.label.shape[0]\n",
    "        return self.size\n",
    "\n",
    "    def __getitem__(self, idx):\n",
    "        # Return the idx-th data point of the dataset\n",
    "        # If we have multiple things to return (data point and label), we can return them as tuple\n",
    "        data_point = self.data[idx]\n",
    "        data_label = self.label[idx]\n",
    "        return data_point, data_label"
   ]
  },
  {
   "cell_type": "code",
   "execution_count": 36,
   "metadata": {},
   "outputs": [
    {
     "name": "stdout",
     "output_type": "stream",
     "text": [
      "Size of dataset: 200\n",
      "Data point 0: (tensor([ 0.0389, -0.1386]), tensor(0))\n"
     ]
    }
   ],
   "source": [
    "dataset = XORDataset(size=200)\n",
    "print(\"Size of dataset:\", len(dataset))\n",
    "print(\"Data point 0:\", dataset[0])"
   ]
  },
  {
   "cell_type": "code",
   "execution_count": 37,
   "metadata": {},
   "outputs": [],
   "source": [
    "def visualize_samples(data, label):\n",
    "    if isinstance(data, torch.Tensor):\n",
    "        data = data.cpu().numpy()\n",
    "    if isinstance(label, torch.Tensor):\n",
    "        label = label.cpu().numpy()\n",
    "    data_0 = data[label == 0]\n",
    "    data_1 = data[label == 1]\n",
    "\n",
    "    plt.figure(figsize=(4, 4))\n",
    "    plt.scatter(data_0[:, 0], data_0[:, 1], edgecolor=\"#333\", label=\"Class 0\")\n",
    "    plt.scatter(data_1[:, 0], data_1[:, 1], edgecolor=\"#333\", label=\"Class 1\")\n",
    "    plt.title(\"Dataset samples\")\n",
    "    plt.ylabel(r\"$x_2$\")\n",
    "    plt.xlabel(r\"$x_1$\")\n",
    "    plt.legend()"
   ]
  },
  {
   "cell_type": "code",
   "execution_count": 38,
   "metadata": {},
   "outputs": [
    {
     "data": {
      "application/pdf": "[encoded data removed]",
      "image/svg+xml": "<?xml version=\"1.0\" encoding=\"utf-8\" standalone=\"no\"?>\n<!DOCTYPE svg PUBLIC \"-//W3C//DTD SVG 1.1//EN\"\n  \"http://www.w3.org/Graphics/SVG/1.1/DTD/svg11.dtd\">\n<!-- Created with matplotlib (https://matplotlib.org/) -->\n<svg height=\"277.314375pt\" version=\"1.1\" viewBox=\"0 0 286.594752 277.314375\" width=\"286.594752pt\" xmlns=\"http://www.w3.org/2000/svg\" xmlns:xlink=\"http://www.w3.org/1999/xlink\">\n <metadata>\n  <rdf:RDF xmlns:cc=\"http://creativecommons.org/ns#\" xmlns:dc=\"http://purl.org/dc/elements/1.1/\" xmlns:rdf=\"http://www.w3.org/1999/02/22-rdf-syntax-ns#\">\n   <cc:Work>\n    <dc:type rdf:resource=\"http://purl.org/dc/dcmitype/StillImage\"/>\n    <dc:date>2021-12-28T17:54:08.594826</dc:date>\n    <dc:format>image/svg+xml</dc:format>\n    <dc:creator>\n     <cc:Agent>\n      <dc:title>Matplotlib v3.3.3, https://matplotlib.org/</dc:title>\n     </cc:Agent>\n    </dc:creator>\n   </cc:Work>\n  </rdf:RDF>\n </metadata>\n <defs>\n  <style type=\"text/css\">*{stroke-linecap:butt;stroke-linejoin:round;}</style>\n </defs>\n <g id=\"figure_1\">\n  <g id=\"patch_1\">\n   <path d=\"M 0 277.314375 \nL 286.594752 277.314375 \nL 286.594752 0 \nL 0 0 \nz\n\" style=\"fill:none;\"/>\n  </g>\n  <g id=\"axes_1\">\n   <g id=\"patch_2\">\n    <path d=\"M 52.160938 239.758125 \nL 275.360937 239.758125 \nL 275.360937 22.318125 \nL 52.160938 22.318125 \nz\n\" style=\"fill:#ffffff;\"/>\n   </g>\n   <g id=\"PathCollection_1\">\n    <defs>\n     <path d=\"M 0 3 \nC 0.795609 3 1.55874 2.683901 2.12132 2.12132 \nC 2.683901 1.55874 3 0.795609 3 0 \nC 3 -0.795609 2.683901 -1.55874 2.12132 -2.12132 \nC 1.55874 -2.683901 0.795609 -3 0 -3 \nC -0.795609 -3 -1.55874 -2.683901 -2.12132 -2.12132 \nC -2.683901 -1.55874 -3 -0.795609 -3 0 \nC -3 0.795609 -2.683901 1.55874 -2.12132 2.12132 \nC -1.55874 2.683901 -0.795609 3 0 3 \nz\n\" id=\"maa1f962237\" style=\"stroke:#333333;\"/>\n    </defs>\n    <g clip-path=\"url(#pc3d92c57f2)\">\n     <use style=\"fill:#1f77b4;stroke:#333333;\" x=\"99.701945\" xlink:href=\"#maa1f962237\" y=\"220.284713\"/>\n     <use style=\"fill:#1f77b4;stroke:#333333;\" x=\"85.613064\" xlink:href=\"#maa1f962237\" y=\"191.388725\"/>\n     <use style=\"fill:#1f77b4;stroke:#333333;\" x=\"122.755364\" xlink:href=\"#maa1f962237\" y=\"208.992427\"/>\n     <use style=\"fill:#1f77b4;stroke:#333333;\" x=\"239.225729\" xlink:href=\"#maa1f962237\" y=\"61.064046\"/>\n     <use style=\"fill:#1f77b4;stroke:#333333;\" x=\"241.064338\" xlink:href=\"#maa1f962237\" y=\"73.086786\"/>\n     <use style=\"fill:#1f77b4;stroke:#333333;\" x=\"95.529639\" xlink:href=\"#maa1f962237\" y=\"185.795922\"/>\n     <use style=\"fill:#1f77b4;stroke:#333333;\" x=\"244.988212\" xlink:href=\"#maa1f962237\" y=\"52.914251\"/>\n     <use style=\"fill:#1f77b4;stroke:#333333;\" x=\"103.484582\" xlink:href=\"#maa1f962237\" y=\"194.118834\"/>\n     <use style=\"fill:#1f77b4;stroke:#333333;\" x=\"234.519276\" xlink:href=\"#maa1f962237\" y=\"57.331959\"/>\n     <use style=\"fill:#1f77b4;stroke:#333333;\" x=\"237.234506\" xlink:href=\"#maa1f962237\" y=\"56.265686\"/>\n     <use style=\"fill:#1f77b4;stroke:#333333;\" x=\"251.225194\" xlink:href=\"#maa1f962237\" y=\"58.700261\"/>\n     <use style=\"fill:#1f77b4;stroke:#333333;\" x=\"98.699083\" xlink:href=\"#maa1f962237\" y=\"203.672955\"/>\n     <use style=\"fill:#1f77b4;stroke:#333333;\" x=\"77.848167\" xlink:href=\"#maa1f962237\" y=\"208.213458\"/>\n     <use style=\"fill:#1f77b4;stroke:#333333;\" x=\"227.739653\" xlink:href=\"#maa1f962237\" y=\"55.998094\"/>\n     <use style=\"fill:#1f77b4;stroke:#333333;\" x=\"236.703961\" xlink:href=\"#maa1f962237\" y=\"53.299388\"/>\n     <use style=\"fill:#1f77b4;stroke:#333333;\" x=\"223.720333\" xlink:href=\"#maa1f962237\" y=\"83.416029\"/>\n     <use style=\"fill:#1f77b4;stroke:#333333;\" x=\"98.28044\" xlink:href=\"#maa1f962237\" y=\"221.729755\"/>\n     <use style=\"fill:#1f77b4;stroke:#333333;\" x=\"221.442783\" xlink:href=\"#maa1f962237\" y=\"70.099516\"/>\n     <use style=\"fill:#1f77b4;stroke:#333333;\" x=\"260.754758\" xlink:href=\"#maa1f962237\" y=\"73.458825\"/>\n     <use style=\"fill:#1f77b4;stroke:#333333;\" x=\"91.039552\" xlink:href=\"#maa1f962237\" y=\"210.562661\"/>\n     <use style=\"fill:#1f77b4;stroke:#333333;\" x=\"240.191748\" xlink:href=\"#maa1f962237\" y=\"70.473976\"/>\n     <use style=\"fill:#1f77b4;stroke:#333333;\" x=\"93.230452\" xlink:href=\"#maa1f962237\" y=\"203.498799\"/>\n     <use style=\"fill:#1f77b4;stroke:#333333;\" x=\"214.927777\" xlink:href=\"#maa1f962237\" y=\"64.408965\"/>\n     <use style=\"fill:#1f77b4;stroke:#333333;\" x=\"112.610474\" xlink:href=\"#maa1f962237\" y=\"209.888265\"/>\n     <use style=\"fill:#1f77b4;stroke:#333333;\" x=\"223.709208\" xlink:href=\"#maa1f962237\" y=\"74.465481\"/>\n     <use style=\"fill:#1f77b4;stroke:#333333;\" x=\"239.269913\" xlink:href=\"#maa1f962237\" y=\"75.087414\"/>\n     <use style=\"fill:#1f77b4;stroke:#333333;\" x=\"238.828201\" xlink:href=\"#maa1f962237\" y=\"74.457387\"/>\n     <use style=\"fill:#1f77b4;stroke:#333333;\" x=\"100.251996\" xlink:href=\"#maa1f962237\" y=\"178.673742\"/>\n     <use style=\"fill:#1f77b4;stroke:#333333;\" x=\"93.609084\" xlink:href=\"#maa1f962237\" y=\"195.20686\"/>\n     <use style=\"fill:#1f77b4;stroke:#333333;\" x=\"118.764336\" xlink:href=\"#maa1f962237\" y=\"212.181978\"/>\n     <use style=\"fill:#1f77b4;stroke:#333333;\" x=\"108.006572\" xlink:href=\"#maa1f962237\" y=\"229.746445\"/>\n     <use style=\"fill:#1f77b4;stroke:#333333;\" x=\"100.320433\" xlink:href=\"#maa1f962237\" y=\"215.369192\"/>\n     <use style=\"fill:#1f77b4;stroke:#333333;\" x=\"109.074579\" xlink:href=\"#maa1f962237\" y=\"201.44971\"/>\n     <use style=\"fill:#1f77b4;stroke:#333333;\" x=\"92.22782\" xlink:href=\"#maa1f962237\" y=\"199.98567\"/>\n     <use style=\"fill:#1f77b4;stroke:#333333;\" x=\"227.175094\" xlink:href=\"#maa1f962237\" y=\"75.213377\"/>\n     <use style=\"fill:#1f77b4;stroke:#333333;\" x=\"229.48163\" xlink:href=\"#maa1f962237\" y=\"63.411011\"/>\n     <use style=\"fill:#1f77b4;stroke:#333333;\" x=\"239.787849\" xlink:href=\"#maa1f962237\" y=\"54.877509\"/>\n     <use style=\"fill:#1f77b4;stroke:#333333;\" x=\"101.057938\" xlink:href=\"#maa1f962237\" y=\"220.41039\"/>\n     <use style=\"fill:#1f77b4;stroke:#333333;\" x=\"233.524287\" xlink:href=\"#maa1f962237\" y=\"54.311415\"/>\n     <use style=\"fill:#1f77b4;stroke:#333333;\" x=\"233.397292\" xlink:href=\"#maa1f962237\" y=\"69.575975\"/>\n     <use style=\"fill:#1f77b4;stroke:#333333;\" x=\"108.090528\" xlink:href=\"#maa1f962237\" y=\"220.479159\"/>\n     <use style=\"fill:#1f77b4;stroke:#333333;\" x=\"63.752239\" xlink:href=\"#maa1f962237\" y=\"224.892868\"/>\n     <use style=\"fill:#1f77b4;stroke:#333333;\" x=\"86.640134\" xlink:href=\"#maa1f962237\" y=\"216.216244\"/>\n     <use style=\"fill:#1f77b4;stroke:#333333;\" x=\"224.851401\" xlink:href=\"#maa1f962237\" y=\"51.986129\"/>\n     <use style=\"fill:#1f77b4;stroke:#333333;\" x=\"239.418793\" xlink:href=\"#maa1f962237\" y=\"59.823365\"/>\n     <use style=\"fill:#1f77b4;stroke:#333333;\" x=\"62.306392\" xlink:href=\"#maa1f962237\" y=\"214.167968\"/>\n     <use style=\"fill:#1f77b4;stroke:#333333;\" x=\"220.986976\" xlink:href=\"#maa1f962237\" y=\"76.589682\"/>\n     <use style=\"fill:#1f77b4;stroke:#333333;\" x=\"116.930161\" xlink:href=\"#maa1f962237\" y=\"215.606934\"/>\n     <use style=\"fill:#1f77b4;stroke:#333333;\" x=\"236.049838\" xlink:href=\"#maa1f962237\" y=\"73.667352\"/>\n     <use style=\"fill:#1f77b4;stroke:#333333;\" x=\"124.934742\" xlink:href=\"#maa1f962237\" y=\"208.670855\"/>\n     <use style=\"fill:#1f77b4;stroke:#333333;\" x=\"248.006794\" xlink:href=\"#maa1f962237\" y=\"87.949203\"/>\n     <use style=\"fill:#1f77b4;stroke:#333333;\" x=\"244.533558\" xlink:href=\"#maa1f962237\" y=\"53.365611\"/>\n     <use style=\"fill:#1f77b4;stroke:#333333;\" x=\"78.152713\" xlink:href=\"#maa1f962237\" y=\"180.829247\"/>\n     <use style=\"fill:#1f77b4;stroke:#333333;\" x=\"252.336443\" xlink:href=\"#maa1f962237\" y=\"66.470006\"/>\n     <use style=\"fill:#1f77b4;stroke:#333333;\" x=\"220.245073\" xlink:href=\"#maa1f962237\" y=\"39.669787\"/>\n     <use style=\"fill:#1f77b4;stroke:#333333;\" x=\"101.097058\" xlink:href=\"#maa1f962237\" y=\"210.032345\"/>\n     <use style=\"fill:#1f77b4;stroke:#333333;\" x=\"77.224455\" xlink:href=\"#maa1f962237\" y=\"205.169129\"/>\n     <use style=\"fill:#1f77b4;stroke:#333333;\" x=\"88.426356\" xlink:href=\"#maa1f962237\" y=\"186.343482\"/>\n     <use style=\"fill:#1f77b4;stroke:#333333;\" x=\"74.272319\" xlink:href=\"#maa1f962237\" y=\"194.076007\"/>\n     <use style=\"fill:#1f77b4;stroke:#333333;\" x=\"241.214462\" xlink:href=\"#maa1f962237\" y=\"69.873657\"/>\n     <use style=\"fill:#1f77b4;stroke:#333333;\" x=\"253.348273\" xlink:href=\"#maa1f962237\" y=\"61.543505\"/>\n     <use style=\"fill:#1f77b4;stroke:#333333;\" x=\"225.603923\" xlink:href=\"#maa1f962237\" y=\"85.058619\"/>\n     <use style=\"fill:#1f77b4;stroke:#333333;\" x=\"82.466989\" xlink:href=\"#maa1f962237\" y=\"218.541346\"/>\n     <use style=\"fill:#1f77b4;stroke:#333333;\" x=\"227.668274\" xlink:href=\"#maa1f962237\" y=\"65.675973\"/>\n     <use style=\"fill:#1f77b4;stroke:#333333;\" x=\"223.830703\" xlink:href=\"#maa1f962237\" y=\"66.107255\"/>\n     <use style=\"fill:#1f77b4;stroke:#333333;\" x=\"79.514349\" xlink:href=\"#maa1f962237\" y=\"226.552665\"/>\n     <use style=\"fill:#1f77b4;stroke:#333333;\" x=\"108.149131\" xlink:href=\"#maa1f962237\" y=\"197.99902\"/>\n     <use style=\"fill:#1f77b4;stroke:#333333;\" x=\"70.563574\" xlink:href=\"#maa1f962237\" y=\"209.080328\"/>\n     <use style=\"fill:#1f77b4;stroke:#333333;\" x=\"97.595243\" xlink:href=\"#maa1f962237\" y=\"184.42005\"/>\n     <use style=\"fill:#1f77b4;stroke:#333333;\" x=\"230.285513\" xlink:href=\"#maa1f962237\" y=\"59.683556\"/>\n     <use style=\"fill:#1f77b4;stroke:#333333;\" x=\"249.275485\" xlink:href=\"#maa1f962237\" y=\"71.25513\"/>\n     <use style=\"fill:#1f77b4;stroke:#333333;\" x=\"105.907925\" xlink:href=\"#maa1f962237\" y=\"200.896118\"/>\n     <use style=\"fill:#1f77b4;stroke:#333333;\" x=\"126.045321\" xlink:href=\"#maa1f962237\" y=\"212.171922\"/>\n     <use style=\"fill:#1f77b4;stroke:#333333;\" x=\"97.959955\" xlink:href=\"#maa1f962237\" y=\"205.73363\"/>\n     <use style=\"fill:#1f77b4;stroke:#333333;\" x=\"238.170046\" xlink:href=\"#maa1f962237\" y=\"71.600671\"/>\n     <use style=\"fill:#1f77b4;stroke:#333333;\" x=\"237.273564\" xlink:href=\"#maa1f962237\" y=\"72.370628\"/>\n     <use style=\"fill:#1f77b4;stroke:#333333;\" x=\"90.470473\" xlink:href=\"#maa1f962237\" y=\"210.826183\"/>\n     <use style=\"fill:#1f77b4;stroke:#333333;\" x=\"225.219926\" xlink:href=\"#maa1f962237\" y=\"68.258085\"/>\n     <use style=\"fill:#1f77b4;stroke:#333333;\" x=\"202.873144\" xlink:href=\"#maa1f962237\" y=\"83.290919\"/>\n     <use style=\"fill:#1f77b4;stroke:#333333;\" x=\"234.883653\" xlink:href=\"#maa1f962237\" y=\"67.080759\"/>\n     <use style=\"fill:#1f77b4;stroke:#333333;\" x=\"118.284143\" xlink:href=\"#maa1f962237\" y=\"203.323948\"/>\n     <use style=\"fill:#1f77b4;stroke:#333333;\" x=\"240.163094\" xlink:href=\"#maa1f962237\" y=\"57.869923\"/>\n     <use style=\"fill:#1f77b4;stroke:#333333;\" x=\"100.585786\" xlink:href=\"#maa1f962237\" y=\"195.822182\"/>\n     <use style=\"fill:#1f77b4;stroke:#333333;\" x=\"103.590143\" xlink:href=\"#maa1f962237\" y=\"219.713984\"/>\n     <use style=\"fill:#1f77b4;stroke:#333333;\" x=\"116.342012\" xlink:href=\"#maa1f962237\" y=\"206.673256\"/>\n     <use style=\"fill:#1f77b4;stroke:#333333;\" x=\"218.91612\" xlink:href=\"#maa1f962237\" y=\"41.90041\"/>\n     <use style=\"fill:#1f77b4;stroke:#333333;\" x=\"240.856589\" xlink:href=\"#maa1f962237\" y=\"49.342823\"/>\n     <use style=\"fill:#1f77b4;stroke:#333333;\" x=\"230.44234\" xlink:href=\"#maa1f962237\" y=\"65.699277\"/>\n     <use style=\"fill:#1f77b4;stroke:#333333;\" x=\"107.596365\" xlink:href=\"#maa1f962237\" y=\"205.156318\"/>\n     <use style=\"fill:#1f77b4;stroke:#333333;\" x=\"82.410156\" xlink:href=\"#maa1f962237\" y=\"208.401652\"/>\n     <use style=\"fill:#1f77b4;stroke:#333333;\" x=\"108.379667\" xlink:href=\"#maa1f962237\" y=\"197.899496\"/>\n     <use style=\"fill:#1f77b4;stroke:#333333;\" x=\"215.346576\" xlink:href=\"#maa1f962237\" y=\"71.30906\"/>\n     <use style=\"fill:#1f77b4;stroke:#333333;\" x=\"107.99408\" xlink:href=\"#maa1f962237\" y=\"195.615134\"/>\n     <use style=\"fill:#1f77b4;stroke:#333333;\" x=\"97.365651\" xlink:href=\"#maa1f962237\" y=\"205.314437\"/>\n     <use style=\"fill:#1f77b4;stroke:#333333;\" x=\"87.875118\" xlink:href=\"#maa1f962237\" y=\"212.26321\"/>\n     <use style=\"fill:#1f77b4;stroke:#333333;\" x=\"95.084147\" xlink:href=\"#maa1f962237\" y=\"216.064331\"/>\n     <use style=\"fill:#1f77b4;stroke:#333333;\" x=\"212.68541\" xlink:href=\"#maa1f962237\" y=\"55.200778\"/>\n     <use style=\"fill:#1f77b4;stroke:#333333;\" x=\"216.204623\" xlink:href=\"#maa1f962237\" y=\"71.110527\"/>\n     <use style=\"fill:#1f77b4;stroke:#333333;\" x=\"76.219437\" xlink:href=\"#maa1f962237\" y=\"213.050881\"/>\n     <use style=\"fill:#1f77b4;stroke:#333333;\" x=\"194.819023\" xlink:href=\"#maa1f962237\" y=\"82.113114\"/>\n     <use style=\"fill:#1f77b4;stroke:#333333;\" x=\"82.312801\" xlink:href=\"#maa1f962237\" y=\"183.159185\"/>\n     <use style=\"fill:#1f77b4;stroke:#333333;\" x=\"86.031848\" xlink:href=\"#maa1f962237\" y=\"194.604943\"/>\n     <use style=\"fill:#1f77b4;stroke:#333333;\" x=\"221.982462\" xlink:href=\"#maa1f962237\" y=\"61.290409\"/>\n     <use style=\"fill:#1f77b4;stroke:#333333;\" x=\"90.155067\" xlink:href=\"#maa1f962237\" y=\"188.551421\"/>\n    </g>\n   </g>\n   <g id=\"PathCollection_2\">\n    <defs>\n     <path d=\"M 0 3 \nC 0.795609 3 1.55874 2.683901 2.12132 2.12132 \nC 2.683901 1.55874 3 0.795609 3 0 \nC 3 -0.795609 2.683901 -1.55874 2.12132 -2.12132 \nC 1.55874 -2.683901 0.795609 -3 0 -3 \nC -0.795609 -3 -1.55874 -2.683901 -2.12132 -2.12132 \nC -2.683901 -1.55874 -3 -0.795609 -3 0 \nC -3 0.795609 -2.683901 1.55874 -2.12132 2.12132 \nC -1.55874 2.683901 -0.795609 3 0 3 \nz\n\" id=\"ma158c5f328\" style=\"stroke:#333333;\"/>\n    </defs>\n    <g clip-path=\"url(#pc3d92c57f2)\">\n     <use style=\"fill:#ff7f0e;stroke:#333333;\" x=\"232.660317\" xlink:href=\"#ma158c5f328\" y=\"207.602772\"/>\n     <use style=\"fill:#ff7f0e;stroke:#333333;\" x=\"220.654231\" xlink:href=\"#ma158c5f328\" y=\"216.411408\"/>\n     <use style=\"fill:#ff7f0e;stroke:#333333;\" x=\"80.454367\" xlink:href=\"#ma158c5f328\" y=\"58.494196\"/>\n     <use style=\"fill:#ff7f0e;stroke:#333333;\" x=\"103.359001\" xlink:href=\"#ma158c5f328\" y=\"63.339912\"/>\n     <use style=\"fill:#ff7f0e;stroke:#333333;\" x=\"95.519561\" xlink:href=\"#ma158c5f328\" y=\"87.198487\"/>\n     <use style=\"fill:#ff7f0e;stroke:#333333;\" x=\"79.378942\" xlink:href=\"#ma158c5f328\" y=\"68.89449\"/>\n     <use style=\"fill:#ff7f0e;stroke:#333333;\" x=\"86.869222\" xlink:href=\"#ma158c5f328\" y=\"70.347086\"/>\n     <use style=\"fill:#ff7f0e;stroke:#333333;\" x=\"250.561547\" xlink:href=\"#ma158c5f328\" y=\"190.332066\"/>\n     <use style=\"fill:#ff7f0e;stroke:#333333;\" x=\"241.032232\" xlink:href=\"#ma158c5f328\" y=\"202.81952\"/>\n     <use style=\"fill:#ff7f0e;stroke:#333333;\" x=\"211.769748\" xlink:href=\"#ma158c5f328\" y=\"189.851373\"/>\n     <use style=\"fill:#ff7f0e;stroke:#333333;\" x=\"83.680921\" xlink:href=\"#ma158c5f328\" y=\"62.675807\"/>\n     <use style=\"fill:#ff7f0e;stroke:#333333;\" x=\"230.999499\" xlink:href=\"#ma158c5f328\" y=\"218.512529\"/>\n     <use style=\"fill:#ff7f0e;stroke:#333333;\" x=\"227.830378\" xlink:href=\"#ma158c5f328\" y=\"214.90123\"/>\n     <use style=\"fill:#ff7f0e;stroke:#333333;\" x=\"226.895568\" xlink:href=\"#ma158c5f328\" y=\"184.56256\"/>\n     <use style=\"fill:#ff7f0e;stroke:#333333;\" x=\"220.391605\" xlink:href=\"#ma158c5f328\" y=\"193.867937\"/>\n     <use style=\"fill:#ff7f0e;stroke:#333333;\" x=\"219.93725\" xlink:href=\"#ma158c5f328\" y=\"221.824449\"/>\n     <use style=\"fill:#ff7f0e;stroke:#333333;\" x=\"112.001245\" xlink:href=\"#ma158c5f328\" y=\"44.922498\"/>\n     <use style=\"fill:#ff7f0e;stroke:#333333;\" x=\"232.68104\" xlink:href=\"#ma158c5f328\" y=\"197.512277\"/>\n     <use style=\"fill:#ff7f0e;stroke:#333333;\" x=\"85.647629\" xlink:href=\"#ma158c5f328\" y=\"61.139322\"/>\n     <use style=\"fill:#ff7f0e;stroke:#333333;\" x=\"249.638982\" xlink:href=\"#ma158c5f328\" y=\"211.173405\"/>\n     <use style=\"fill:#ff7f0e;stroke:#333333;\" x=\"68.505411\" xlink:href=\"#ma158c5f328\" y=\"67.118071\"/>\n     <use style=\"fill:#ff7f0e;stroke:#333333;\" x=\"122.709521\" xlink:href=\"#ma158c5f328\" y=\"60.746953\"/>\n     <use style=\"fill:#ff7f0e;stroke:#333333;\" x=\"233.548544\" xlink:href=\"#ma158c5f328\" y=\"205.855677\"/>\n     <use style=\"fill:#ff7f0e;stroke:#333333;\" x=\"230.645418\" xlink:href=\"#ma158c5f328\" y=\"201.644035\"/>\n     <use style=\"fill:#ff7f0e;stroke:#333333;\" x=\"101.025962\" xlink:href=\"#ma158c5f328\" y=\"61.187165\"/>\n     <use style=\"fill:#ff7f0e;stroke:#333333;\" x=\"223.539339\" xlink:href=\"#ma158c5f328\" y=\"194.076377\"/>\n     <use style=\"fill:#ff7f0e;stroke:#333333;\" x=\"108.878187\" xlink:href=\"#ma158c5f328\" y=\"83.00593\"/>\n     <use style=\"fill:#ff7f0e;stroke:#333333;\" x=\"92.91238\" xlink:href=\"#ma158c5f328\" y=\"93.345331\"/>\n     <use style=\"fill:#ff7f0e;stroke:#333333;\" x=\"225.18495\" xlink:href=\"#ma158c5f328\" y=\"186.405748\"/>\n     <use style=\"fill:#ff7f0e;stroke:#333333;\" x=\"252.204819\" xlink:href=\"#ma158c5f328\" y=\"201.707095\"/>\n     <use style=\"fill:#ff7f0e;stroke:#333333;\" x=\"102.644078\" xlink:href=\"#ma158c5f328\" y=\"49.961522\"/>\n     <use style=\"fill:#ff7f0e;stroke:#333333;\" x=\"87.783274\" xlink:href=\"#ma158c5f328\" y=\"66.211182\"/>\n     <use style=\"fill:#ff7f0e;stroke:#333333;\" x=\"66.206275\" xlink:href=\"#ma158c5f328\" y=\"68.483351\"/>\n     <use style=\"fill:#ff7f0e;stroke:#333333;\" x=\"238.291118\" xlink:href=\"#ma158c5f328\" y=\"183.711752\"/>\n     <use style=\"fill:#ff7f0e;stroke:#333333;\" x=\"106.592006\" xlink:href=\"#ma158c5f328\" y=\"64.949122\"/>\n     <use style=\"fill:#ff7f0e;stroke:#333333;\" x=\"258.862208\" xlink:href=\"#ma158c5f328\" y=\"207.973247\"/>\n     <use style=\"fill:#ff7f0e;stroke:#333333;\" x=\"102.742943\" xlink:href=\"#ma158c5f328\" y=\"76.311527\"/>\n     <use style=\"fill:#ff7f0e;stroke:#333333;\" x=\"111.657431\" xlink:href=\"#ma158c5f328\" y=\"88.667034\"/>\n     <use style=\"fill:#ff7f0e;stroke:#333333;\" x=\"120.631238\" xlink:href=\"#ma158c5f328\" y=\"52.12844\"/>\n     <use style=\"fill:#ff7f0e;stroke:#333333;\" x=\"221.066767\" xlink:href=\"#ma158c5f328\" y=\"229.874489\"/>\n     <use style=\"fill:#ff7f0e;stroke:#333333;\" x=\"111.753037\" xlink:href=\"#ma158c5f328\" y=\"58.759724\"/>\n     <use style=\"fill:#ff7f0e;stroke:#333333;\" x=\"99.598031\" xlink:href=\"#ma158c5f328\" y=\"67.983139\"/>\n     <use style=\"fill:#ff7f0e;stroke:#333333;\" x=\"214.520742\" xlink:href=\"#ma158c5f328\" y=\"204.901461\"/>\n     <use style=\"fill:#ff7f0e;stroke:#333333;\" x=\"229.174604\" xlink:href=\"#ma158c5f328\" y=\"200.406682\"/>\n     <use style=\"fill:#ff7f0e;stroke:#333333;\" x=\"98.378658\" xlink:href=\"#ma158c5f328\" y=\"69.960145\"/>\n     <use style=\"fill:#ff7f0e;stroke:#333333;\" x=\"95.833853\" xlink:href=\"#ma158c5f328\" y=\"38.602847\"/>\n     <use style=\"fill:#ff7f0e;stroke:#333333;\" x=\"231.134119\" xlink:href=\"#ma158c5f328\" y=\"195.090741\"/>\n     <use style=\"fill:#ff7f0e;stroke:#333333;\" x=\"226.076753\" xlink:href=\"#ma158c5f328\" y=\"206.038206\"/>\n     <use style=\"fill:#ff7f0e;stroke:#333333;\" x=\"97.145078\" xlink:href=\"#ma158c5f328\" y=\"55.976918\"/>\n     <use style=\"fill:#ff7f0e;stroke:#333333;\" x=\"88.088624\" xlink:href=\"#ma158c5f328\" y=\"42.964164\"/>\n     <use style=\"fill:#ff7f0e;stroke:#333333;\" x=\"78.592175\" xlink:href=\"#ma158c5f328\" y=\"87.244941\"/>\n     <use style=\"fill:#ff7f0e;stroke:#333333;\" x=\"101.291332\" xlink:href=\"#ma158c5f328\" y=\"67.425739\"/>\n     <use style=\"fill:#ff7f0e;stroke:#333333;\" x=\"95.245816\" xlink:href=\"#ma158c5f328\" y=\"42.758099\"/>\n     <use style=\"fill:#ff7f0e;stroke:#333333;\" x=\"94.263341\" xlink:href=\"#ma158c5f328\" y=\"59.889881\"/>\n     <use style=\"fill:#ff7f0e;stroke:#333333;\" x=\"88.870561\" xlink:href=\"#ma158c5f328\" y=\"53.848873\"/>\n     <use style=\"fill:#ff7f0e;stroke:#333333;\" x=\"216.507866\" xlink:href=\"#ma158c5f328\" y=\"214.255285\"/>\n     <use style=\"fill:#ff7f0e;stroke:#333333;\" x=\"71.572564\" xlink:href=\"#ma158c5f328\" y=\"89.680857\"/>\n     <use style=\"fill:#ff7f0e;stroke:#333333;\" x=\"230.239428\" xlink:href=\"#ma158c5f328\" y=\"195.984596\"/>\n     <use style=\"fill:#ff7f0e;stroke:#333333;\" x=\"228.833198\" xlink:href=\"#ma158c5f328\" y=\"198.799309\"/>\n     <use style=\"fill:#ff7f0e;stroke:#333333;\" x=\"250.910676\" xlink:href=\"#ma158c5f328\" y=\"172.67271\"/>\n     <use style=\"fill:#ff7f0e;stroke:#333333;\" x=\"226.441885\" xlink:href=\"#ma158c5f328\" y=\"203.534722\"/>\n     <use style=\"fill:#ff7f0e;stroke:#333333;\" x=\"96.145072\" xlink:href=\"#ma158c5f328\" y=\"76.001722\"/>\n     <use style=\"fill:#ff7f0e;stroke:#333333;\" x=\"210.343392\" xlink:href=\"#ma158c5f328\" y=\"194.951286\"/>\n     <use style=\"fill:#ff7f0e;stroke:#333333;\" x=\"222.180554\" xlink:href=\"#ma158c5f328\" y=\"191.92319\"/>\n     <use style=\"fill:#ff7f0e;stroke:#333333;\" x=\"98.632897\" xlink:href=\"#ma158c5f328\" y=\"68.067653\"/>\n     <use style=\"fill:#ff7f0e;stroke:#333333;\" x=\"117.451718\" xlink:href=\"#ma158c5f328\" y=\"55.835403\"/>\n     <use style=\"fill:#ff7f0e;stroke:#333333;\" x=\"265.215483\" xlink:href=\"#ma158c5f328\" y=\"188.475092\"/>\n     <use style=\"fill:#ff7f0e;stroke:#333333;\" x=\"98.550397\" xlink:href=\"#ma158c5f328\" y=\"62.153689\"/>\n     <use style=\"fill:#ff7f0e;stroke:#333333;\" x=\"99.304273\" xlink:href=\"#ma158c5f328\" y=\"32.201761\"/>\n     <use style=\"fill:#ff7f0e;stroke:#333333;\" x=\"104.421812\" xlink:href=\"#ma158c5f328\" y=\"89.005352\"/>\n     <use style=\"fill:#ff7f0e;stroke:#333333;\" x=\"236.621698\" xlink:href=\"#ma158c5f328\" y=\"211.170773\"/>\n     <use style=\"fill:#ff7f0e;stroke:#333333;\" x=\"221.189838\" xlink:href=\"#ma158c5f328\" y=\"194.135627\"/>\n     <use style=\"fill:#ff7f0e;stroke:#333333;\" x=\"222.732089\" xlink:href=\"#ma158c5f328\" y=\"209.217997\"/>\n     <use style=\"fill:#ff7f0e;stroke:#333333;\" x=\"93.683405\" xlink:href=\"#ma158c5f328\" y=\"60.22776\"/>\n     <use style=\"fill:#ff7f0e;stroke:#333333;\" x=\"243.443248\" xlink:href=\"#ma158c5f328\" y=\"227.478549\"/>\n     <use style=\"fill:#ff7f0e;stroke:#333333;\" x=\"224.358768\" xlink:href=\"#ma158c5f328\" y=\"215.022499\"/>\n     <use style=\"fill:#ff7f0e;stroke:#333333;\" x=\"238.878989\" xlink:href=\"#ma158c5f328\" y=\"187.079345\"/>\n     <use style=\"fill:#ff7f0e;stroke:#333333;\" x=\"120.432294\" xlink:href=\"#ma158c5f328\" y=\"52.157953\"/>\n     <use style=\"fill:#ff7f0e;stroke:#333333;\" x=\"75.804816\" xlink:href=\"#ma158c5f328\" y=\"69.480223\"/>\n     <use style=\"fill:#ff7f0e;stroke:#333333;\" x=\"224.146258\" xlink:href=\"#ma158c5f328\" y=\"202.623665\"/>\n     <use style=\"fill:#ff7f0e;stroke:#333333;\" x=\"107.872468\" xlink:href=\"#ma158c5f328\" y=\"89.63654\"/>\n     <use style=\"fill:#ff7f0e;stroke:#333333;\" x=\"113.250622\" xlink:href=\"#ma158c5f328\" y=\"49.420569\"/>\n     <use style=\"fill:#ff7f0e;stroke:#333333;\" x=\"102.531243\" xlink:href=\"#ma158c5f328\" y=\"64.056834\"/>\n     <use style=\"fill:#ff7f0e;stroke:#333333;\" x=\"106.166595\" xlink:href=\"#ma158c5f328\" y=\"58.940161\"/>\n     <use style=\"fill:#ff7f0e;stroke:#333333;\" x=\"237.222793\" xlink:href=\"#ma158c5f328\" y=\"217.707137\"/>\n     <use style=\"fill:#ff7f0e;stroke:#333333;\" x=\"238.461767\" xlink:href=\"#ma158c5f328\" y=\"213.421713\"/>\n     <use style=\"fill:#ff7f0e;stroke:#333333;\" x=\"80.277509\" xlink:href=\"#ma158c5f328\" y=\"72.708117\"/>\n     <use style=\"fill:#ff7f0e;stroke:#333333;\" x=\"239.824467\" xlink:href=\"#ma158c5f328\" y=\"171.958681\"/>\n     <use style=\"fill:#ff7f0e;stroke:#333333;\" x=\"117.860692\" xlink:href=\"#ma158c5f328\" y=\"76.171832\"/>\n     <use style=\"fill:#ff7f0e;stroke:#333333;\" x=\"242.326093\" xlink:href=\"#ma158c5f328\" y=\"163.70826\"/>\n     <use style=\"fill:#ff7f0e;stroke:#333333;\" x=\"213.428375\" xlink:href=\"#ma158c5f328\" y=\"224.107336\"/>\n     <use style=\"fill:#ff7f0e;stroke:#333333;\" x=\"244.341456\" xlink:href=\"#ma158c5f328\" y=\"205.037632\"/>\n     <use style=\"fill:#ff7f0e;stroke:#333333;\" x=\"100.21807\" xlink:href=\"#ma158c5f328\" y=\"66.723915\"/>\n     <use style=\"fill:#ff7f0e;stroke:#333333;\" x=\"109.744701\" xlink:href=\"#ma158c5f328\" y=\"55.145459\"/>\n     <use style=\"fill:#ff7f0e;stroke:#333333;\" x=\"105.551136\" xlink:href=\"#ma158c5f328\" y=\"63.515458\"/>\n     <use style=\"fill:#ff7f0e;stroke:#333333;\" x=\"85.13081\" xlink:href=\"#ma158c5f328\" y=\"69.004925\"/>\n    </g>\n   </g>\n   <g id=\"matplotlib.axis_1\">\n    <g id=\"xtick_1\">\n     <g id=\"line2d_1\">\n      <defs>\n       <path d=\"M 0 0 \nL 0 3.5 \n\" id=\"mc66a154e12\" style=\"stroke:#000000;stroke-width:0.8;\"/>\n      </defs>\n      <g>\n       <use style=\"stroke:#000000;stroke-width:0.8;\" x=\"59.486298\" xlink:href=\"#mc66a154e12\" y=\"239.758125\"/>\n      </g>\n     </g>\n     <g id=\"text_1\">\n      <!-- −0.25 -->\n      <g transform=\"translate(44.163642 254.356562)scale(0.1 -0.1)\">\n       <defs>\n        <path d=\"M 10.59375 35.5 \nL 73.1875 35.5 \nL 73.1875 27.203125 \nL 10.59375 27.203125 \nz\n\" id=\"DejaVuSans-8722\"/>\n        <path d=\"M 31.78125 66.40625 \nQ 24.171875 66.40625 20.328125 58.90625 \nQ 16.5 51.421875 16.5 36.375 \nQ 16.5 21.390625 20.328125 13.890625 \nQ 24.171875 6.390625 31.78125 6.390625 \nQ 39.453125 6.390625 43.28125 13.890625 \nQ 47.125 21.390625 47.125 36.375 \nQ 47.125 51.421875 43.28125 58.90625 \nQ 39.453125 66.40625 31.78125 66.40625 \nz\nM 31.78125 74.21875 \nQ 44.046875 74.21875 50.515625 64.515625 \nQ 56.984375 54.828125 56.984375 36.375 \nQ 56.984375 17.96875 50.515625 8.265625 \nQ 44.046875 -1.421875 31.78125 -1.421875 \nQ 19.53125 -1.421875 13.0625 8.265625 \nQ 6.59375 17.96875 6.59375 36.375 \nQ 6.59375 54.828125 13.0625 64.515625 \nQ 19.53125 74.21875 31.78125 74.21875 \nz\n\" id=\"DejaVuSans-48\"/>\n        <path d=\"M 10.6875 12.40625 \nL 21 12.40625 \nL 21 0 \nL 10.6875 0 \nz\n\" id=\"DejaVuSans-46\"/>\n        <path d=\"M 19.1875 8.296875 \nL 53.609375 8.296875 \nL 53.609375 0 \nL 7.328125 0 \nL 7.328125 8.296875 \nQ 12.9375 14.109375 22.625 23.890625 \nQ 32.328125 33.6875 34.8125 36.53125 \nQ 39.546875 41.84375 41.421875 45.53125 \nQ 43.3125 49.21875 43.3125 52.78125 \nQ 43.3125 58.59375 39.234375 62.25 \nQ 35.15625 65.921875 28.609375 65.921875 \nQ 23.96875 65.921875 18.8125 64.3125 \nQ 13.671875 62.703125 7.8125 59.421875 \nL 7.8125 69.390625 \nQ 13.765625 71.78125 18.9375 73 \nQ 24.125 74.21875 28.421875 74.21875 \nQ 39.75 74.21875 46.484375 68.546875 \nQ 53.21875 62.890625 53.21875 53.421875 \nQ 53.21875 48.921875 51.53125 44.890625 \nQ 49.859375 40.875 45.40625 35.40625 \nQ 44.1875 33.984375 37.640625 27.21875 \nQ 31.109375 20.453125 19.1875 8.296875 \nz\n\" id=\"DejaVuSans-50\"/>\n        <path d=\"M 10.796875 72.90625 \nL 49.515625 72.90625 \nL 49.515625 64.59375 \nL 19.828125 64.59375 \nL 19.828125 46.734375 \nQ 21.96875 47.46875 24.109375 47.828125 \nQ 26.265625 48.1875 28.421875 48.1875 \nQ 40.625 48.1875 47.75 41.5 \nQ 54.890625 34.8125 54.890625 23.390625 \nQ 54.890625 11.625 47.5625 5.09375 \nQ 40.234375 -1.421875 26.90625 -1.421875 \nQ 22.3125 -1.421875 17.546875 -0.640625 \nQ 12.796875 0.140625 7.71875 1.703125 \nL 7.71875 11.625 \nQ 12.109375 9.234375 16.796875 8.0625 \nQ 21.484375 6.890625 26.703125 6.890625 \nQ 35.15625 6.890625 40.078125 11.328125 \nQ 45.015625 15.765625 45.015625 23.390625 \nQ 45.015625 31 40.078125 35.4375 \nQ 35.15625 39.890625 26.703125 39.890625 \nQ 22.75 39.890625 18.8125 39.015625 \nQ 14.890625 38.140625 10.796875 36.28125 \nz\n\" id=\"DejaVuSans-53\"/>\n       </defs>\n       <use xlink:href=\"#DejaVuSans-8722\"/>\n       <use x=\"83.789062\" xlink:href=\"#DejaVuSans-48\"/>\n       <use x=\"147.412109\" xlink:href=\"#DejaVuSans-46\"/>\n       <use x=\"179.199219\" xlink:href=\"#DejaVuSans-50\"/>\n       <use x=\"242.822266\" xlink:href=\"#DejaVuSans-53\"/>\n      </g>\n     </g>\n    </g>\n    <g id=\"xtick_2\">\n     <g id=\"line2d_2\">\n      <g>\n       <use style=\"stroke:#000000;stroke-width:0.8;\" x=\"94.282238\" xlink:href=\"#mc66a154e12\" y=\"239.758125\"/>\n      </g>\n     </g>\n     <g id=\"text_2\">\n      <!-- 0.00 -->\n      <g transform=\"translate(83.149426 254.356562)scale(0.1 -0.1)\">\n       <use xlink:href=\"#DejaVuSans-48\"/>\n       <use x=\"63.623047\" xlink:href=\"#DejaVuSans-46\"/>\n       <use x=\"95.410156\" xlink:href=\"#DejaVuSans-48\"/>\n       <use x=\"159.033203\" xlink:href=\"#DejaVuSans-48\"/>\n      </g>\n     </g>\n    </g>\n    <g id=\"xtick_3\">\n     <g id=\"line2d_3\">\n      <g>\n       <use style=\"stroke:#000000;stroke-width:0.8;\" x=\"129.078179\" xlink:href=\"#mc66a154e12\" y=\"239.758125\"/>\n      </g>\n     </g>\n     <g id=\"text_3\">\n      <!-- 0.25 -->\n      <g transform=\"translate(117.945366 254.356562)scale(0.1 -0.1)\">\n       <use xlink:href=\"#DejaVuSans-48\"/>\n       <use x=\"63.623047\" xlink:href=\"#DejaVuSans-46\"/>\n       <use x=\"95.410156\" xlink:href=\"#DejaVuSans-50\"/>\n       <use x=\"159.033203\" xlink:href=\"#DejaVuSans-53\"/>\n      </g>\n     </g>\n    </g>\n    <g id=\"xtick_4\">\n     <g id=\"line2d_4\">\n      <g>\n       <use style=\"stroke:#000000;stroke-width:0.8;\" x=\"163.874119\" xlink:href=\"#mc66a154e12\" y=\"239.758125\"/>\n      </g>\n     </g>\n     <g id=\"text_4\">\n      <!-- 0.50 -->\n      <g transform=\"translate(152.741306 254.356562)scale(0.1 -0.1)\">\n       <use xlink:href=\"#DejaVuSans-48\"/>\n       <use x=\"63.623047\" xlink:href=\"#DejaVuSans-46\"/>\n       <use x=\"95.410156\" xlink:href=\"#DejaVuSans-53\"/>\n       <use x=\"159.033203\" xlink:href=\"#DejaVuSans-48\"/>\n      </g>\n     </g>\n    </g>\n    <g id=\"xtick_5\">\n     <g id=\"line2d_5\">\n      <g>\n       <use style=\"stroke:#000000;stroke-width:0.8;\" x=\"198.670059\" xlink:href=\"#mc66a154e12\" y=\"239.758125\"/>\n      </g>\n     </g>\n     <g id=\"text_5\">\n      <!-- 0.75 -->\n      <g transform=\"translate(187.537247 254.356562)scale(0.1 -0.1)\">\n       <defs>\n        <path d=\"M 8.203125 72.90625 \nL 55.078125 72.90625 \nL 55.078125 68.703125 \nL 28.609375 0 \nL 18.3125 0 \nL 43.21875 64.59375 \nL 8.203125 64.59375 \nz\n\" id=\"DejaVuSans-55\"/>\n       </defs>\n       <use xlink:href=\"#DejaVuSans-48\"/>\n       <use x=\"63.623047\" xlink:href=\"#DejaVuSans-46\"/>\n       <use x=\"95.410156\" xlink:href=\"#DejaVuSans-55\"/>\n       <use x=\"159.033203\" xlink:href=\"#DejaVuSans-53\"/>\n      </g>\n     </g>\n    </g>\n    <g id=\"xtick_6\">\n     <g id=\"line2d_6\">\n      <g>\n       <use style=\"stroke:#000000;stroke-width:0.8;\" x=\"233.465999\" xlink:href=\"#mc66a154e12\" y=\"239.758125\"/>\n      </g>\n     </g>\n     <g id=\"text_6\">\n      <!-- 1.00 -->\n      <g transform=\"translate(222.333187 254.356562)scale(0.1 -0.1)\">\n       <defs>\n        <path d=\"M 12.40625 8.296875 \nL 28.515625 8.296875 \nL 28.515625 63.921875 \nL 10.984375 60.40625 \nL 10.984375 69.390625 \nL 28.421875 72.90625 \nL 38.28125 72.90625 \nL 38.28125 8.296875 \nL 54.390625 8.296875 \nL 54.390625 0 \nL 12.40625 0 \nz\n\" id=\"DejaVuSans-49\"/>\n       </defs>\n       <use xlink:href=\"#DejaVuSans-49\"/>\n       <use x=\"63.623047\" xlink:href=\"#DejaVuSans-46\"/>\n       <use x=\"95.410156\" xlink:href=\"#DejaVuSans-48\"/>\n       <use x=\"159.033203\" xlink:href=\"#DejaVuSans-48\"/>\n      </g>\n     </g>\n    </g>\n    <g id=\"xtick_7\">\n     <g id=\"line2d_7\">\n      <g>\n       <use style=\"stroke:#000000;stroke-width:0.8;\" x=\"268.26194\" xlink:href=\"#mc66a154e12\" y=\"239.758125\"/>\n      </g>\n     </g>\n     <g id=\"text_7\">\n      <!-- 1.25 -->\n      <g transform=\"translate(257.129127 254.356562)scale(0.1 -0.1)\">\n       <use xlink:href=\"#DejaVuSans-49\"/>\n       <use x=\"63.623047\" xlink:href=\"#DejaVuSans-46\"/>\n       <use x=\"95.410156\" xlink:href=\"#DejaVuSans-50\"/>\n       <use x=\"159.033203\" xlink:href=\"#DejaVuSans-53\"/>\n      </g>\n     </g>\n    </g>\n    <g id=\"text_8\">\n     <!-- $x_1$ -->\n     <g transform=\"translate(158.410938 268.034687)scale(0.1 -0.1)\">\n      <defs>\n       <path d=\"M 60.015625 54.6875 \nL 34.90625 27.875 \nL 50.296875 0 \nL 39.984375 0 \nL 28.421875 21.6875 \nL 8.296875 0 \nL -2.59375 0 \nL 24.3125 28.8125 \nL 10.015625 54.6875 \nL 20.3125 54.6875 \nL 30.8125 34.90625 \nL 49.125 54.6875 \nz\n\" id=\"DejaVuSans-Oblique-120\"/>\n      </defs>\n      <use transform=\"translate(0 0.3125)\" xlink:href=\"#DejaVuSans-Oblique-120\"/>\n      <use transform=\"translate(59.179688 -16.09375)scale(0.7)\" xlink:href=\"#DejaVuSans-49\"/>\n     </g>\n    </g>\n   </g>\n   <g id=\"matplotlib.axis_2\">\n    <g id=\"ytick_1\">\n     <g id=\"line2d_8\">\n      <defs>\n       <path d=\"M 0 0 \nL -3.5 0 \n\" id=\"mef1f54e348\" style=\"stroke:#000000;stroke-width:0.8;\"/>\n      </defs>\n      <g>\n       <use style=\"stroke:#000000;stroke-width:0.8;\" x=\"52.160938\" xlink:href=\"#mef1f54e348\" y=\"228.654017\"/>\n      </g>\n     </g>\n     <g id=\"text_9\">\n      <!-- −0.2 -->\n      <g transform=\"translate(20.878125 232.453236)scale(0.1 -0.1)\">\n       <use xlink:href=\"#DejaVuSans-8722\"/>\n       <use x=\"83.789062\" xlink:href=\"#DejaVuSans-48\"/>\n       <use x=\"147.412109\" xlink:href=\"#DejaVuSans-46\"/>\n       <use x=\"179.199219\" xlink:href=\"#DejaVuSans-50\"/>\n      </g>\n     </g>\n    </g>\n    <g id=\"ytick_2\">\n     <g id=\"line2d_9\">\n      <g>\n       <use style=\"stroke:#000000;stroke-width:0.8;\" x=\"52.160938\" xlink:href=\"#mef1f54e348\" y=\"201.389036\"/>\n      </g>\n     </g>\n     <g id=\"text_10\">\n      <!-- 0.0 -->\n      <g transform=\"translate(29.257812 205.188255)scale(0.1 -0.1)\">\n       <use xlink:href=\"#DejaVuSans-48\"/>\n       <use x=\"63.623047\" xlink:href=\"#DejaVuSans-46\"/>\n       <use x=\"95.410156\" xlink:href=\"#DejaVuSans-48\"/>\n      </g>\n     </g>\n    </g>\n    <g id=\"ytick_3\">\n     <g id=\"line2d_10\">\n      <g>\n       <use style=\"stroke:#000000;stroke-width:0.8;\" x=\"52.160938\" xlink:href=\"#mef1f54e348\" y=\"174.124055\"/>\n      </g>\n     </g>\n     <g id=\"text_11\">\n      <!-- 0.2 -->\n      <g transform=\"translate(29.257812 177.923274)scale(0.1 -0.1)\">\n       <use xlink:href=\"#DejaVuSans-48\"/>\n       <use x=\"63.623047\" xlink:href=\"#DejaVuSans-46\"/>\n       <use x=\"95.410156\" xlink:href=\"#DejaVuSans-50\"/>\n      </g>\n     </g>\n    </g>\n    <g id=\"ytick_4\">\n     <g id=\"line2d_11\">\n      <g>\n       <use style=\"stroke:#000000;stroke-width:0.8;\" x=\"52.160938\" xlink:href=\"#mef1f54e348\" y=\"146.859075\"/>\n      </g>\n     </g>\n     <g id=\"text_12\">\n      <!-- 0.4 -->\n      <g transform=\"translate(29.257812 150.658293)scale(0.1 -0.1)\">\n       <defs>\n        <path d=\"M 37.796875 64.3125 \nL 12.890625 25.390625 \nL 37.796875 25.390625 \nz\nM 35.203125 72.90625 \nL 47.609375 72.90625 \nL 47.609375 25.390625 \nL 58.015625 25.390625 \nL 58.015625 17.1875 \nL 47.609375 17.1875 \nL 47.609375 0 \nL 37.796875 0 \nL 37.796875 17.1875 \nL 4.890625 17.1875 \nL 4.890625 26.703125 \nz\n\" id=\"DejaVuSans-52\"/>\n       </defs>\n       <use xlink:href=\"#DejaVuSans-48\"/>\n       <use x=\"63.623047\" xlink:href=\"#DejaVuSans-46\"/>\n       <use x=\"95.410156\" xlink:href=\"#DejaVuSans-52\"/>\n      </g>\n     </g>\n    </g>\n    <g id=\"ytick_5\">\n     <g id=\"line2d_12\">\n      <g>\n       <use style=\"stroke:#000000;stroke-width:0.8;\" x=\"52.160938\" xlink:href=\"#mef1f54e348\" y=\"119.594094\"/>\n      </g>\n     </g>\n     <g id=\"text_13\">\n      <!-- 0.6 -->\n      <g transform=\"translate(29.257812 123.393312)scale(0.1 -0.1)\">\n       <defs>\n        <path d=\"M 33.015625 40.375 \nQ 26.375 40.375 22.484375 35.828125 \nQ 18.609375 31.296875 18.609375 23.390625 \nQ 18.609375 15.53125 22.484375 10.953125 \nQ 26.375 6.390625 33.015625 6.390625 \nQ 39.65625 6.390625 43.53125 10.953125 \nQ 47.40625 15.53125 47.40625 23.390625 \nQ 47.40625 31.296875 43.53125 35.828125 \nQ 39.65625 40.375 33.015625 40.375 \nz\nM 52.59375 71.296875 \nL 52.59375 62.3125 \nQ 48.875 64.0625 45.09375 64.984375 \nQ 41.3125 65.921875 37.59375 65.921875 \nQ 27.828125 65.921875 22.671875 59.328125 \nQ 17.53125 52.734375 16.796875 39.40625 \nQ 19.671875 43.65625 24.015625 45.921875 \nQ 28.375 48.1875 33.59375 48.1875 \nQ 44.578125 48.1875 50.953125 41.515625 \nQ 57.328125 34.859375 57.328125 23.390625 \nQ 57.328125 12.15625 50.6875 5.359375 \nQ 44.046875 -1.421875 33.015625 -1.421875 \nQ 20.359375 -1.421875 13.671875 8.265625 \nQ 6.984375 17.96875 6.984375 36.375 \nQ 6.984375 53.65625 15.1875 63.9375 \nQ 23.390625 74.21875 37.203125 74.21875 \nQ 40.921875 74.21875 44.703125 73.484375 \nQ 48.484375 72.75 52.59375 71.296875 \nz\n\" id=\"DejaVuSans-54\"/>\n       </defs>\n       <use xlink:href=\"#DejaVuSans-48\"/>\n       <use x=\"63.623047\" xlink:href=\"#DejaVuSans-46\"/>\n       <use x=\"95.410156\" xlink:href=\"#DejaVuSans-54\"/>\n      </g>\n     </g>\n    </g>\n    <g id=\"ytick_6\">\n     <g id=\"line2d_13\">\n      <g>\n       <use style=\"stroke:#000000;stroke-width:0.8;\" x=\"52.160938\" xlink:href=\"#mef1f54e348\" y=\"92.329113\"/>\n      </g>\n     </g>\n     <g id=\"text_14\">\n      <!-- 0.8 -->\n      <g transform=\"translate(29.257812 96.128331)scale(0.1 -0.1)\">\n       <defs>\n        <path d=\"M 31.78125 34.625 \nQ 24.75 34.625 20.71875 30.859375 \nQ 16.703125 27.09375 16.703125 20.515625 \nQ 16.703125 13.921875 20.71875 10.15625 \nQ 24.75 6.390625 31.78125 6.390625 \nQ 38.8125 6.390625 42.859375 10.171875 \nQ 46.921875 13.96875 46.921875 20.515625 \nQ 46.921875 27.09375 42.890625 30.859375 \nQ 38.875 34.625 31.78125 34.625 \nz\nM 21.921875 38.8125 \nQ 15.578125 40.375 12.03125 44.71875 \nQ 8.5 49.078125 8.5 55.328125 \nQ 8.5 64.0625 14.71875 69.140625 \nQ 20.953125 74.21875 31.78125 74.21875 \nQ 42.671875 74.21875 48.875 69.140625 \nQ 55.078125 64.0625 55.078125 55.328125 \nQ 55.078125 49.078125 51.53125 44.71875 \nQ 48 40.375 41.703125 38.8125 \nQ 48.828125 37.15625 52.796875 32.3125 \nQ 56.78125 27.484375 56.78125 20.515625 \nQ 56.78125 9.90625 50.3125 4.234375 \nQ 43.84375 -1.421875 31.78125 -1.421875 \nQ 19.734375 -1.421875 13.25 4.234375 \nQ 6.78125 9.90625 6.78125 20.515625 \nQ 6.78125 27.484375 10.78125 32.3125 \nQ 14.796875 37.15625 21.921875 38.8125 \nz\nM 18.3125 54.390625 \nQ 18.3125 48.734375 21.84375 45.5625 \nQ 25.390625 42.390625 31.78125 42.390625 \nQ 38.140625 42.390625 41.71875 45.5625 \nQ 45.3125 48.734375 45.3125 54.390625 \nQ 45.3125 60.0625 41.71875 63.234375 \nQ 38.140625 66.40625 31.78125 66.40625 \nQ 25.390625 66.40625 21.84375 63.234375 \nQ 18.3125 60.0625 18.3125 54.390625 \nz\n\" id=\"DejaVuSans-56\"/>\n       </defs>\n       <use xlink:href=\"#DejaVuSans-48\"/>\n       <use x=\"63.623047\" xlink:href=\"#DejaVuSans-46\"/>\n       <use x=\"95.410156\" xlink:href=\"#DejaVuSans-56\"/>\n      </g>\n     </g>\n    </g>\n    <g id=\"ytick_7\">\n     <g id=\"line2d_14\">\n      <g>\n       <use style=\"stroke:#000000;stroke-width:0.8;\" x=\"52.160938\" xlink:href=\"#mef1f54e348\" y=\"65.064132\"/>\n      </g>\n     </g>\n     <g id=\"text_15\">\n      <!-- 1.0 -->\n      <g transform=\"translate(29.257812 68.86335)scale(0.1 -0.1)\">\n       <use xlink:href=\"#DejaVuSans-49\"/>\n       <use x=\"63.623047\" xlink:href=\"#DejaVuSans-46\"/>\n       <use x=\"95.410156\" xlink:href=\"#DejaVuSans-48\"/>\n      </g>\n     </g>\n    </g>\n    <g id=\"ytick_8\">\n     <g id=\"line2d_15\">\n      <g>\n       <use style=\"stroke:#000000;stroke-width:0.8;\" x=\"52.160938\" xlink:href=\"#mef1f54e348\" y=\"37.799151\"/>\n      </g>\n     </g>\n     <g id=\"text_16\">\n      <!-- 1.2 -->\n      <g transform=\"translate(29.257812 41.598369)scale(0.1 -0.1)\">\n       <use xlink:href=\"#DejaVuSans-49\"/>\n       <use x=\"63.623047\" xlink:href=\"#DejaVuSans-46\"/>\n       <use x=\"95.410156\" xlink:href=\"#DejaVuSans-50\"/>\n      </g>\n     </g>\n    </g>\n    <g id=\"text_17\">\n     <!-- $x_2$ -->\n     <g transform=\"translate(14.798438 136.388125)rotate(-90)scale(0.1 -0.1)\">\n      <use transform=\"translate(0 0.3125)\" xlink:href=\"#DejaVuSans-Oblique-120\"/>\n      <use transform=\"translate(59.179688 -16.09375)scale(0.7)\" xlink:href=\"#DejaVuSans-50\"/>\n     </g>\n    </g>\n   </g>\n   <g id=\"patch_3\">\n    <path d=\"M 52.160938 239.758125 \nL 52.160938 22.318125 \n\" style=\"fill:none;stroke:#000000;stroke-linecap:square;stroke-linejoin:miter;stroke-width:0.8;\"/>\n   </g>\n   <g id=\"patch_4\">\n    <path d=\"M 275.360937 239.758125 \nL 275.360937 22.318125 \n\" style=\"fill:none;stroke:#000000;stroke-linecap:square;stroke-linejoin:miter;stroke-width:0.8;\"/>\n   </g>\n   <g id=\"patch_5\">\n    <path d=\"M 52.160938 239.758125 \nL 275.360937 239.758125 \n\" style=\"fill:none;stroke:#000000;stroke-linecap:square;stroke-linejoin:miter;stroke-width:0.8;\"/>\n   </g>\n   <g id=\"patch_6\">\n    <path d=\"M 52.160938 22.318125 \nL 275.360937 22.318125 \n\" style=\"fill:none;stroke:#000000;stroke-linecap:square;stroke-linejoin:miter;stroke-width:0.8;\"/>\n   </g>\n   <g id=\"text_18\">\n    <!-- Dataset samples -->\n    <g transform=\"translate(113.418125 16.318125)scale(0.12 -0.12)\">\n     <defs>\n      <path d=\"M 19.671875 64.796875 \nL 19.671875 8.109375 \nL 31.59375 8.109375 \nQ 46.6875 8.109375 53.6875 14.9375 \nQ 60.6875 21.78125 60.6875 36.53125 \nQ 60.6875 51.171875 53.6875 57.984375 \nQ 46.6875 64.796875 31.59375 64.796875 \nz\nM 9.8125 72.90625 \nL 30.078125 72.90625 \nQ 51.265625 72.90625 61.171875 64.09375 \nQ 71.09375 55.28125 71.09375 36.53125 \nQ 71.09375 17.671875 61.125 8.828125 \nQ 51.171875 0 30.078125 0 \nL 9.8125 0 \nz\n\" id=\"DejaVuSans-68\"/>\n      <path d=\"M 34.28125 27.484375 \nQ 23.390625 27.484375 19.1875 25 \nQ 14.984375 22.515625 14.984375 16.5 \nQ 14.984375 11.71875 18.140625 8.90625 \nQ 21.296875 6.109375 26.703125 6.109375 \nQ 34.1875 6.109375 38.703125 11.40625 \nQ 43.21875 16.703125 43.21875 25.484375 \nL 43.21875 27.484375 \nz\nM 52.203125 31.203125 \nL 52.203125 0 \nL 43.21875 0 \nL 43.21875 8.296875 \nQ 40.140625 3.328125 35.546875 0.953125 \nQ 30.953125 -1.421875 24.3125 -1.421875 \nQ 15.921875 -1.421875 10.953125 3.296875 \nQ 6 8.015625 6 15.921875 \nQ 6 25.140625 12.171875 29.828125 \nQ 18.359375 34.515625 30.609375 34.515625 \nL 43.21875 34.515625 \nL 43.21875 35.40625 \nQ 43.21875 41.609375 39.140625 45 \nQ 35.0625 48.390625 27.6875 48.390625 \nQ 23 48.390625 18.546875 47.265625 \nQ 14.109375 46.140625 10.015625 43.890625 \nL 10.015625 52.203125 \nQ 14.9375 54.109375 19.578125 55.046875 \nQ 24.21875 56 28.609375 56 \nQ 40.484375 56 46.34375 49.84375 \nQ 52.203125 43.703125 52.203125 31.203125 \nz\n\" id=\"DejaVuSans-97\"/>\n      <path d=\"M 18.3125 70.21875 \nL 18.3125 54.6875 \nL 36.8125 54.6875 \nL 36.8125 47.703125 \nL 18.3125 47.703125 \nL 18.3125 18.015625 \nQ 18.3125 11.328125 20.140625 9.421875 \nQ 21.96875 7.515625 27.59375 7.515625 \nL 36.8125 7.515625 \nL 36.8125 0 \nL 27.59375 0 \nQ 17.1875 0 13.234375 3.875 \nQ 9.28125 7.765625 9.28125 18.015625 \nL 9.28125 47.703125 \nL 2.6875 47.703125 \nL 2.6875 54.6875 \nL 9.28125 54.6875 \nL 9.28125 70.21875 \nz\n\" id=\"DejaVuSans-116\"/>\n      <path d=\"M 44.28125 53.078125 \nL 44.28125 44.578125 \nQ 40.484375 46.53125 36.375 47.5 \nQ 32.28125 48.484375 27.875 48.484375 \nQ 21.1875 48.484375 17.84375 46.4375 \nQ 14.5 44.390625 14.5 40.28125 \nQ 14.5 37.15625 16.890625 35.375 \nQ 19.28125 33.59375 26.515625 31.984375 \nL 29.59375 31.296875 \nQ 39.15625 29.25 43.1875 25.515625 \nQ 47.21875 21.78125 47.21875 15.09375 \nQ 47.21875 7.46875 41.1875 3.015625 \nQ 35.15625 -1.421875 24.609375 -1.421875 \nQ 20.21875 -1.421875 15.453125 -0.5625 \nQ 10.6875 0.296875 5.421875 2 \nL 5.421875 11.28125 \nQ 10.40625 8.6875 15.234375 7.390625 \nQ 20.0625 6.109375 24.8125 6.109375 \nQ 31.15625 6.109375 34.5625 8.28125 \nQ 37.984375 10.453125 37.984375 14.40625 \nQ 37.984375 18.0625 35.515625 20.015625 \nQ 33.0625 21.96875 24.703125 23.78125 \nL 21.578125 24.515625 \nQ 13.234375 26.265625 9.515625 29.90625 \nQ 5.8125 33.546875 5.8125 39.890625 \nQ 5.8125 47.609375 11.28125 51.796875 \nQ 16.75 56 26.8125 56 \nQ 31.78125 56 36.171875 55.265625 \nQ 40.578125 54.546875 44.28125 53.078125 \nz\n\" id=\"DejaVuSans-115\"/>\n      <path d=\"M 56.203125 29.59375 \nL 56.203125 25.203125 \nL 14.890625 25.203125 \nQ 15.484375 15.921875 20.484375 11.0625 \nQ 25.484375 6.203125 34.421875 6.203125 \nQ 39.59375 6.203125 44.453125 7.46875 \nQ 49.3125 8.734375 54.109375 11.28125 \nL 54.109375 2.78125 \nQ 49.265625 0.734375 44.1875 -0.34375 \nQ 39.109375 -1.421875 33.890625 -1.421875 \nQ 20.796875 -1.421875 13.15625 6.1875 \nQ 5.515625 13.8125 5.515625 26.8125 \nQ 5.515625 40.234375 12.765625 48.109375 \nQ 20.015625 56 32.328125 56 \nQ 43.359375 56 49.78125 48.890625 \nQ 56.203125 41.796875 56.203125 29.59375 \nz\nM 47.21875 32.234375 \nQ 47.125 39.59375 43.09375 43.984375 \nQ 39.0625 48.390625 32.421875 48.390625 \nQ 24.90625 48.390625 20.390625 44.140625 \nQ 15.875 39.890625 15.1875 32.171875 \nz\n\" id=\"DejaVuSans-101\"/>\n      <path id=\"DejaVuSans-32\"/>\n      <path d=\"M 52 44.1875 \nQ 55.375 50.25 60.0625 53.125 \nQ 64.75 56 71.09375 56 \nQ 79.640625 56 84.28125 50.015625 \nQ 88.921875 44.046875 88.921875 33.015625 \nL 88.921875 0 \nL 79.890625 0 \nL 79.890625 32.71875 \nQ 79.890625 40.578125 77.09375 44.375 \nQ 74.3125 48.1875 68.609375 48.1875 \nQ 61.625 48.1875 57.5625 43.546875 \nQ 53.515625 38.921875 53.515625 30.90625 \nL 53.515625 0 \nL 44.484375 0 \nL 44.484375 32.71875 \nQ 44.484375 40.625 41.703125 44.40625 \nQ 38.921875 48.1875 33.109375 48.1875 \nQ 26.21875 48.1875 22.15625 43.53125 \nQ 18.109375 38.875 18.109375 30.90625 \nL 18.109375 0 \nL 9.078125 0 \nL 9.078125 54.6875 \nL 18.109375 54.6875 \nL 18.109375 46.1875 \nQ 21.1875 51.21875 25.484375 53.609375 \nQ 29.78125 56 35.6875 56 \nQ 41.65625 56 45.828125 52.96875 \nQ 50 49.953125 52 44.1875 \nz\n\" id=\"DejaVuSans-109\"/>\n      <path d=\"M 18.109375 8.203125 \nL 18.109375 -20.796875 \nL 9.078125 -20.796875 \nL 9.078125 54.6875 \nL 18.109375 54.6875 \nL 18.109375 46.390625 \nQ 20.953125 51.265625 25.265625 53.625 \nQ 29.59375 56 35.59375 56 \nQ 45.5625 56 51.78125 48.09375 \nQ 58.015625 40.1875 58.015625 27.296875 \nQ 58.015625 14.40625 51.78125 6.484375 \nQ 45.5625 -1.421875 35.59375 -1.421875 \nQ 29.59375 -1.421875 25.265625 0.953125 \nQ 20.953125 3.328125 18.109375 8.203125 \nz\nM 48.6875 27.296875 \nQ 48.6875 37.203125 44.609375 42.84375 \nQ 40.53125 48.484375 33.40625 48.484375 \nQ 26.265625 48.484375 22.1875 42.84375 \nQ 18.109375 37.203125 18.109375 27.296875 \nQ 18.109375 17.390625 22.1875 11.75 \nQ 26.265625 6.109375 33.40625 6.109375 \nQ 40.53125 6.109375 44.609375 11.75 \nQ 48.6875 17.390625 48.6875 27.296875 \nz\n\" id=\"DejaVuSans-112\"/>\n      <path d=\"M 9.421875 75.984375 \nL 18.40625 75.984375 \nL 18.40625 0 \nL 9.421875 0 \nz\n\" id=\"DejaVuSans-108\"/>\n     </defs>\n     <use xlink:href=\"#DejaVuSans-68\"/>\n     <use x=\"77.001953\" xlink:href=\"#DejaVuSans-97\"/>\n     <use x=\"138.28125\" xlink:href=\"#DejaVuSans-116\"/>\n     <use x=\"177.490234\" xlink:href=\"#DejaVuSans-97\"/>\n     <use x=\"238.769531\" xlink:href=\"#DejaVuSans-115\"/>\n     <use x=\"290.869141\" xlink:href=\"#DejaVuSans-101\"/>\n     <use x=\"352.392578\" xlink:href=\"#DejaVuSans-116\"/>\n     <use x=\"391.601562\" xlink:href=\"#DejaVuSans-32\"/>\n     <use x=\"423.388672\" xlink:href=\"#DejaVuSans-115\"/>\n     <use x=\"475.488281\" xlink:href=\"#DejaVuSans-97\"/>\n     <use x=\"536.767578\" xlink:href=\"#DejaVuSans-109\"/>\n     <use x=\"634.179688\" xlink:href=\"#DejaVuSans-112\"/>\n     <use x=\"697.65625\" xlink:href=\"#DejaVuSans-108\"/>\n     <use x=\"725.439453\" xlink:href=\"#DejaVuSans-101\"/>\n     <use x=\"786.962891\" xlink:href=\"#DejaVuSans-115\"/>\n    </g>\n   </g>\n   <g id=\"legend_1\">\n    <g id=\"patch_7\">\n     <path d=\"M 200.5125 147.21625 \nL 268.360937 147.21625 \nQ 270.360937 147.21625 270.360937 145.21625 \nL 270.360937 116.86 \nQ 270.360937 114.86 268.360937 114.86 \nL 200.5125 114.86 \nQ 198.5125 114.86 198.5125 116.86 \nL 198.5125 145.21625 \nQ 198.5125 147.21625 200.5125 147.21625 \nz\n\" style=\"fill:#ffffff;opacity:0.8;stroke:#cccccc;stroke-linejoin:miter;\"/>\n    </g>\n    <g id=\"PathCollection_3\">\n     <g>\n      <use style=\"fill:#1f77b4;stroke:#333333;\" x=\"212.5125\" xlink:href=\"#maa1f962237\" y=\"123.833437\"/>\n     </g>\n    </g>\n    <g id=\"text_19\">\n     <!-- Class 0 -->\n     <g transform=\"translate(230.5125 126.458437)scale(0.1 -0.1)\">\n      <defs>\n       <path d=\"M 64.40625 67.28125 \nL 64.40625 56.890625 \nQ 59.421875 61.53125 53.78125 63.8125 \nQ 48.140625 66.109375 41.796875 66.109375 \nQ 29.296875 66.109375 22.65625 58.46875 \nQ 16.015625 50.828125 16.015625 36.375 \nQ 16.015625 21.96875 22.65625 14.328125 \nQ 29.296875 6.6875 41.796875 6.6875 \nQ 48.140625 6.6875 53.78125 8.984375 \nQ 59.421875 11.28125 64.40625 15.921875 \nL 64.40625 5.609375 \nQ 59.234375 2.09375 53.4375 0.328125 \nQ 47.65625 -1.421875 41.21875 -1.421875 \nQ 24.65625 -1.421875 15.125 8.703125 \nQ 5.609375 18.84375 5.609375 36.375 \nQ 5.609375 53.953125 15.125 64.078125 \nQ 24.65625 74.21875 41.21875 74.21875 \nQ 47.75 74.21875 53.53125 72.484375 \nQ 59.328125 70.75 64.40625 67.28125 \nz\n\" id=\"DejaVuSans-67\"/>\n      </defs>\n      <use xlink:href=\"#DejaVuSans-67\"/>\n      <use x=\"69.824219\" xlink:href=\"#DejaVuSans-108\"/>\n      <use x=\"97.607422\" xlink:href=\"#DejaVuSans-97\"/>\n      <use x=\"158.886719\" xlink:href=\"#DejaVuSans-115\"/>\n      <use x=\"210.986328\" xlink:href=\"#DejaVuSans-115\"/>\n      <use x=\"263.085938\" xlink:href=\"#DejaVuSans-32\"/>\n      <use x=\"294.873047\" xlink:href=\"#DejaVuSans-48\"/>\n     </g>\n    </g>\n    <g id=\"PathCollection_4\">\n     <g>\n      <use style=\"fill:#ff7f0e;stroke:#333333;\" x=\"212.5125\" xlink:href=\"#ma158c5f328\" y=\"138.511562\"/>\n     </g>\n    </g>\n    <g id=\"text_20\">\n     <!-- Class 1 -->\n     <g transform=\"translate(230.5125 141.136562)scale(0.1 -0.1)\">\n      <use xlink:href=\"#DejaVuSans-67\"/>\n      <use x=\"69.824219\" xlink:href=\"#DejaVuSans-108\"/>\n      <use x=\"97.607422\" xlink:href=\"#DejaVuSans-97\"/>\n      <use x=\"158.886719\" xlink:href=\"#DejaVuSans-115\"/>\n      <use x=\"210.986328\" xlink:href=\"#DejaVuSans-115\"/>\n      <use x=\"263.085938\" xlink:href=\"#DejaVuSans-32\"/>\n      <use x=\"294.873047\" xlink:href=\"#DejaVuSans-49\"/>\n     </g>\n    </g>\n   </g>\n  </g>\n </g>\n <defs>\n  <clipPath id=\"pc3d92c57f2\">\n   <rect height=\"217.44\" width=\"223.2\" x=\"52.160938\" y=\"22.318125\"/>\n  </clipPath>\n </defs>\n</svg>\n",
      "text/plain": [
       "<Figure size 288x288 with 1 Axes>"
      ]
     },
     "metadata": {
      "needs_background": "light"
     },
     "output_type": "display_data"
    }
   ],
   "source": [
    "visualize_samples(dataset.data, dataset.label)\n",
    "plt.show()"
   ]
  },
  {
   "cell_type": "code",
   "execution_count": 39,
   "metadata": {},
   "outputs": [],
   "source": [
    "data_loader = data.DataLoader(dataset, batch_size=8, shuffle=True)"
   ]
  },
  {
   "cell_type": "code",
   "execution_count": 40,
   "metadata": {},
   "outputs": [
    {
     "name": "stdout",
     "output_type": "stream",
     "text": [
      "Data inputs torch.Size([8, 2]) \n",
      " tensor([[ 0.0490, -0.0634],\n",
      "        [ 1.0186,  0.9369],\n",
      "        [ 1.1961,  0.9384],\n",
      "        [-0.0048,  0.0453],\n",
      "        [-0.0421,  0.1104],\n",
      "        [ 1.0637,  0.2764],\n",
      "        [ 0.0089,  0.8376],\n",
      "        [ 1.0454,  1.0747]])\n",
      "Data labels torch.Size([8]) \n",
      " tensor([0, 0, 0, 0, 0, 1, 1, 0])\n"
     ]
    }
   ],
   "source": [
    "# next(iter(...)) catches the first batch of the data loader\n",
    "# If shuffle is True, this will return a different batch every time we run this cell\n",
    "# For iterating over the whole dataset, we can simple use \"for batch in data_loader: ...\"\n",
    "data_inputs, data_labels = next(iter(data_loader))\n",
    "\n",
    "# The shape of the outputs are [batch_size, d_1,...,d_N] where d_1,...,d_N are the\n",
    "# dimensions of the data point returned from the dataset class\n",
    "print(\"Data inputs\", data_inputs.shape, \"\\n\", data_inputs)\n",
    "print(\"Data labels\", data_labels.shape, \"\\n\", data_labels)"
   ]
  },
  {
   "cell_type": "code",
   "execution_count": 41,
   "metadata": {},
   "outputs": [],
   "source": [
    "loss_module = nn.BCEWithLogitsLoss()"
   ]
  },
  {
   "cell_type": "code",
   "execution_count": 42,
   "metadata": {},
   "outputs": [],
   "source": [
    "# Input to the optimizer are the parameters of the model: model.parameters()\n",
    "optimizer = torch.optim.SGD(model.parameters(), lr=0.1)"
   ]
  },
  {
   "cell_type": "code",
   "execution_count": 43,
   "metadata": {},
   "outputs": [],
   "source": [
    "train_dataset = XORDataset(size=1000)\n",
    "train_data_loader = data.DataLoader(train_dataset, batch_size=128, shuffle=True)"
   ]
  },
  {
   "cell_type": "code",
   "execution_count": 44,
   "metadata": {},
   "outputs": [
    {
     "data": {
      "text/plain": [
       "SimpleClassifier(\n",
       "  (linear1): Linear(in_features=2, out_features=4, bias=True)\n",
       "  (act_fn): Tanh()\n",
       "  (linear2): Linear(in_features=4, out_features=1, bias=True)\n",
       ")"
      ]
     },
     "execution_count": 44,
     "metadata": {},
     "output_type": "execute_result"
    }
   ],
   "source": [
    "# Push model to device. Has to be only done once\n",
    "model.to(device)"
   ]
  },
  {
   "cell_type": "code",
   "execution_count": 45,
   "metadata": {},
   "outputs": [],
   "source": [
    "def train_model(model, optimizer, data_loader, loss_module, num_epochs=100):\n",
    "    # Set model to train mode\n",
    "    model.train()\n",
    "\n",
    "    # Training loop\n",
    "    for epoch in tqdm(range(num_epochs)):\n",
    "        for data_inputs, data_labels in data_loader:\n",
    "\n",
    "            # Step 1: Move input data to device (only strictly necessary if we use GPU)\n",
    "            data_inputs = data_inputs.to(device)\n",
    "            data_labels = data_labels.to(device)\n",
    "\n",
    "            # Step 2: Run the model on the input data\n",
    "            preds = model(data_inputs)\n",
    "            preds = preds.squeeze(dim=1)  # Output is [Batch size, 1], but we want [Batch size]\n",
    "\n",
    "            # Step 3: Calculate the loss\n",
    "            loss = loss_module(preds, data_labels.float())\n",
    "\n",
    "            # Step 4: Perform backpropagation\n",
    "            # Before calculating the gradients, we need to ensure that they are all zero.\n",
    "            # The gradients would not be overwritten, but actually added to the existing ones.\n",
    "            optimizer.zero_grad()\n",
    "            # Perform backpropagation\n",
    "            loss.backward()\n",
    "\n",
    "            # Step 5: Update the parameters\n",
    "            optimizer.step()"
   ]
  },
  {
   "cell_type": "code",
   "execution_count": 53,
   "metadata": {},
   "outputs": [
    {
     "data": {
      "application/vnd.jupyter.widget-view+json": {
       "model_id": "02f5a5f736a84f68bde1decb50e99f22",
       "version_major": 2,
       "version_minor": 0
      },
      "text/plain": [
       "  0%|          | 0/100 [00:00<?, ?it/s]"
      ]
     },
     "metadata": {},
     "output_type": "display_data"
    }
   ],
   "source": [
    "train_model(model, optimizer, train_data_loader, loss_module)"
   ]
  },
  {
   "cell_type": "code",
   "execution_count": 47,
   "metadata": {},
   "outputs": [
    {
     "name": "stdout",
     "output_type": "stream",
     "text": [
      "OrderedDict([('linear1.weight', tensor([[-1.9215,  2.3721],\n",
      "        [-2.6335,  2.1656],\n",
      "        [ 0.0268,  0.6934],\n",
      "        [-1.5618, -1.4011]])), ('linear1.bias', tensor([ 0.8812, -1.0419, -0.2444,  0.0159])), ('linear2.weight', tensor([[-2.8560,  2.9604, -0.3260, -2.0879]])), ('linear2.bias', tensor([1.0491]))])\n"
     ]
    }
   ],
   "source": [
    "state_dict = model.state_dict()\n",
    "print(state_dict)"
   ]
  },
  {
   "cell_type": "code",
   "execution_count": 48,
   "metadata": {},
   "outputs": [],
   "source": [
    "# torch.save(object, filename). For the filename, any extension can be used\n",
    "torch.save(state_dict, \"our_model.tar\")"
   ]
  },
  {
   "cell_type": "code",
   "execution_count": 49,
   "metadata": {},
   "outputs": [
    {
     "name": "stdout",
     "output_type": "stream",
     "text": [
      "Original model\n",
      " OrderedDict([('linear1.weight', tensor([[-1.9215,  2.3721],\n",
      "        [-2.6335,  2.1656],\n",
      "        [ 0.0268,  0.6934],\n",
      "        [-1.5618, -1.4011]])), ('linear1.bias', tensor([ 0.8812, -1.0419, -0.2444,  0.0159])), ('linear2.weight', tensor([[-2.8560,  2.9604, -0.3260, -2.0879]])), ('linear2.bias', tensor([1.0491]))])\n",
      "\n",
      "Loaded model\n",
      " OrderedDict([('linear1.weight', tensor([[-1.9215,  2.3721],\n",
      "        [-2.6335,  2.1656],\n",
      "        [ 0.0268,  0.6934],\n",
      "        [-1.5618, -1.4011]])), ('linear1.bias', tensor([ 0.8812, -1.0419, -0.2444,  0.0159])), ('linear2.weight', tensor([[-2.8560,  2.9604, -0.3260, -2.0879]])), ('linear2.bias', tensor([1.0491]))])\n"
     ]
    }
   ],
   "source": [
    "# Load state dict from the disk (make sure it is the same name as above)\n",
    "state_dict = torch.load(\"our_model.tar\")\n",
    "\n",
    "# Create a new model and load the state\n",
    "new_model = SimpleClassifier(num_inputs=2, num_hidden=4, num_outputs=1)\n",
    "new_model.load_state_dict(state_dict)\n",
    "\n",
    "# Verify that the parameters are the same\n",
    "print(\"Original model\\n\", model.state_dict())\n",
    "print(\"\\nLoaded model\\n\", new_model.state_dict())"
   ]
  },
  {
   "cell_type": "code",
   "execution_count": 55,
   "metadata": {},
   "outputs": [],
   "source": [
    "test_dataset = XORDataset(size=500, std=0.2)\n",
    "# drop_last -> Don't drop the last batch although it is smaller than 128\n",
    "test_data_loader = data.DataLoader(test_dataset, batch_size=128, shuffle=False, drop_last=False)"
   ]
  },
  {
   "cell_type": "code",
   "execution_count": 51,
   "metadata": {},
   "outputs": [],
   "source": [
    "def eval_model(model, data_loader):\n",
    "    model.eval()  # Set model to eval mode\n",
    "    true_preds, num_preds = 0.0, 0.0\n",
    "\n",
    "    with torch.no_grad():  # Deactivate gradients for the following code\n",
    "        for data_inputs, data_labels in data_loader:\n",
    "\n",
    "            # Determine prediction of model on dev set\n",
    "            data_inputs, data_labels = data_inputs.to(device), data_labels.to(device)\n",
    "            preds = model(data_inputs)\n",
    "            preds = preds.squeeze(dim=1)\n",
    "            preds = torch.sigmoid(preds)  # Sigmoid to map predictions between 0 and 1\n",
    "            pred_labels = (preds >= 0.5).long()  # Binarize predictions to 0 and 1\n",
    "\n",
    "            # Keep records of predictions for the accuracy metric (true_preds=TP+TN, num_preds=TP+TN+FP+FN)\n",
    "            true_preds += (pred_labels == data_labels).sum()\n",
    "            num_preds += data_labels.shape[0]\n",
    "\n",
    "    acc = true_preds / num_preds\n",
    "    print(f\"Accuracy of the model: {100.0*acc:4.2f}%\")"
   ]
  },
  {
   "cell_type": "code",
   "execution_count": 57,
   "metadata": {},
   "outputs": [
    {
     "name": "stdout",
     "output_type": "stream",
     "text": [
      "Accuracy of the model: 96.20%\n"
     ]
    }
   ],
   "source": [
    "eval_model(model, test_data_loader)"
   ]
  },
  {
   "cell_type": "code",
   "execution_count": 58,
   "metadata": {},
   "outputs": [
    {
     "name": "stderr",
     "output_type": "stream",
     "text": [
      "/home/piotr_gnome/.conda/envs/cuda/lib/python3.7/site-packages/torch/functional.py:445: UserWarning: torch.meshgrid: in an upcoming release, it will be required to pass the indexing argument. (Triggered internally at  /opt/conda/conda-bld/pytorch_1639180543123/work/aten/src/ATen/native/TensorShape.cpp:2157.)\n",
      "  return _VF.meshgrid(tensors, **kwargs)  # type: ignore[attr-defined]\n"
     ]
    },
    {
     "data": {
      "application/pdf": "[encoded data removed]",
      "image/svg+xml": "<?xml version=\"1.0\" encoding=\"utf-8\" standalone=\"no\"?>\n<!DOCTYPE svg PUBLIC \"-//W3C//DTD SVG 1.1//EN\"\n  \"http://www.w3.org/Graphics/SVG/1.1/DTD/svg11.dtd\">\n<!-- Created with matplotlib (https://matplotlib.org/) -->\n<svg height=\"277.314375pt\" version=\"1.1\" viewBox=\"0 0 291.115 277.314375\" width=\"291.115pt\" xmlns=\"http://www.w3.org/2000/svg\" xmlns:xlink=\"http://www.w3.org/1999/xlink\">\n <metadata>\n  <rdf:RDF xmlns:cc=\"http://creativecommons.org/ns#\" xmlns:dc=\"http://purl.org/dc/elements/1.1/\" xmlns:rdf=\"http://www.w3.org/1999/02/22-rdf-syntax-ns#\">\n   <cc:Work>\n    <dc:type rdf:resource=\"http://purl.org/dc/dcmitype/StillImage\"/>\n    <dc:date>2021-12-28T20:22:38.606552</dc:date>\n    <dc:format>image/svg+xml</dc:format>\n    <dc:creator>\n     <cc:Agent>\n      <dc:title>Matplotlib v3.3.3, https://matplotlib.org/</dc:title>\n     </cc:Agent>\n    </dc:creator>\n   </cc:Work>\n  </rdf:RDF>\n </metadata>\n <defs>\n  <style type=\"text/css\">*{stroke-linecap:butt;stroke-linejoin:round;}</style>\n </defs>\n <g id=\"figure_1\">\n  <g id=\"patch_1\">\n   <path d=\"M 0 277.314375 \nL 291.115 277.314375 \nL 291.115 0 \nL 0 0 \nz\n\" style=\"fill:none;\"/>\n  </g>\n  <g id=\"axes_1\">\n   <g id=\"patch_2\">\n    <path d=\"M 58.523438 239.758125 \nL 275.963437 239.758125 \nL 275.963437 22.318125 \nL 58.523438 22.318125 \nz\n\" style=\"fill:#ffffff;\"/>\n   </g>\n   <g clip-path=\"url(#p5514d58729)\">\n    <image height=\"218\" id=\"image90f88a85b4\" transform=\"scale(1 -1)translate(0 -218)\" width=\"218\" x=\"58.523438\" xlink:href=\"data:image/png;base64,\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\" y=\"-21.758125\"/>\n   </g>\n   <g id=\"PathCollection_1\">\n    <defs>\n     <path d=\"M 0 3 \nC 0.795609 3 1.55874 2.683901 2.12132 2.12132 \nC 2.683901 1.55874 3 0.795609 3 0 \nC 3 -0.795609 2.683901 -1.55874 2.12132 -2.12132 \nC 1.55874 -2.683901 0.795609 -3 0 -3 \nC -0.795609 -3 -1.55874 -2.683901 -2.12132 -2.12132 \nC -2.683901 -1.55874 -3 -0.795609 -3 0 \nC -3 0.795609 -2.683901 1.55874 -2.12132 2.12132 \nC -1.55874 2.683901 -0.795609 3 0 3 \nz\n\" id=\"m6d59e6018e\" style=\"stroke:#333333;\"/>\n    </defs>\n    <g clip-path=\"url(#p5514d58729)\">\n     <use style=\"fill:#1f77b4;stroke:#333333;\" x=\"117.116909\" xlink:href=\"#m6d59e6018e\" y=\"200.46755\"/>\n     <use style=\"fill:#1f77b4;stroke:#333333;\" x=\"106.111723\" xlink:href=\"#m6d59e6018e\" y=\"177.422812\"/>\n     <use style=\"fill:#1f77b4;stroke:#333333;\" x=\"135.124526\" xlink:href=\"#m6d59e6018e\" y=\"191.461879\"/>\n     <use style=\"fill:#1f77b4;stroke:#333333;\" x=\"226.10251\" xlink:href=\"#m6d59e6018e\" y=\"73.488031\"/>\n     <use style=\"fill:#1f77b4;stroke:#333333;\" x=\"227.538694\" xlink:href=\"#m6d59e6018e\" y=\"83.076244\"/>\n     <use style=\"fill:#1f77b4;stroke:#333333;\" x=\"113.857814\" xlink:href=\"#m6d59e6018e\" y=\"172.962515\"/>\n     <use style=\"fill:#1f77b4;stroke:#333333;\" x=\"230.603733\" xlink:href=\"#m6d59e6018e\" y=\"66.988516\"/>\n     <use style=\"fill:#1f77b4;stroke:#333333;\" x=\"120.071624\" xlink:href=\"#m6d59e6018e\" y=\"179.600091\"/>\n     <use style=\"fill:#1f77b4;stroke:#333333;\" x=\"222.426179\" xlink:href=\"#m6d59e6018e\" y=\"70.511667\"/>\n     <use style=\"fill:#1f77b4;stroke:#333333;\" x=\"224.547115\" xlink:href=\"#m6d59e6018e\" y=\"69.661307\"/>\n     <use style=\"fill:#1f77b4;stroke:#333333;\" x=\"235.475599\" xlink:href=\"#m6d59e6018e\" y=\"71.602897\"/>\n     <use style=\"fill:#1f77b4;stroke:#333333;\" x=\"116.333548\" xlink:href=\"#m6d59e6018e\" y=\"187.219565\"/>\n     <use style=\"fill:#1f77b4;stroke:#333333;\" x=\"100.046363\" xlink:href=\"#m6d59e6018e\" y=\"190.840645\"/>\n     <use style=\"fill:#1f77b4;stroke:#333333;\" x=\"217.130442\" xlink:href=\"#m6d59e6018e\" y=\"69.447901\"/>\n     <use style=\"fill:#1f77b4;stroke:#333333;\" x=\"224.132692\" xlink:href=\"#m6d59e6018e\" y=\"67.295665\"/>\n     <use style=\"fill:#1f77b4;stroke:#333333;\" x=\"213.990848\" xlink:href=\"#m6d59e6018e\" y=\"91.313883\"/>\n     <use style=\"fill:#1f77b4;stroke:#333333;\" x=\"116.006535\" xlink:href=\"#m6d59e6018e\" y=\"201.619981\"/>\n     <use style=\"fill:#1f77b4;stroke:#333333;\" x=\"212.211795\" xlink:href=\"#m6d59e6018e\" y=\"80.693877\"/>\n     <use style=\"fill:#1f77b4;stroke:#333333;\" x=\"242.919385\" xlink:href=\"#m6d59e6018e\" y=\"83.372947\"/>\n     <use style=\"fill:#1f77b4;stroke:#333333;\" x=\"110.350492\" xlink:href=\"#m6d59e6018e\" y=\"192.714151\"/>\n     <use style=\"fill:#1f77b4;stroke:#333333;\" x=\"226.857092\" xlink:href=\"#m6d59e6018e\" y=\"80.992511\"/>\n     <use style=\"fill:#1f77b4;stroke:#333333;\" x=\"112.06186\" xlink:href=\"#m6d59e6018e\" y=\"187.080674\"/>\n     <use style=\"fill:#1f77b4;stroke:#333333;\" x=\"207.122758\" xlink:href=\"#m6d59e6018e\" y=\"76.155625\"/>\n     <use style=\"fill:#1f77b4;stroke:#333333;\" x=\"127.200092\" xlink:href=\"#m6d59e6018e\" y=\"192.176315\"/>\n     <use style=\"fill:#1f77b4;stroke:#333333;\" x=\"213.982158\" xlink:href=\"#m6d59e6018e\" y=\"84.175762\"/>\n     <use style=\"fill:#1f77b4;stroke:#333333;\" x=\"226.137023\" xlink:href=\"#m6d59e6018e\" y=\"84.671758\"/>\n     <use style=\"fill:#1f77b4;stroke:#333333;\" x=\"225.791991\" xlink:href=\"#m6d59e6018e\" y=\"84.169308\"/>\n     <use style=\"fill:#1f77b4;stroke:#333333;\" x=\"117.546568\" xlink:href=\"#m6d59e6018e\" y=\"167.282529\"/>\n     <use style=\"fill:#1f77b4;stroke:#333333;\" x=\"112.35762\" xlink:href=\"#m6d59e6018e\" y=\"180.467799\"/>\n     <use style=\"fill:#1f77b4;stroke:#333333;\" x=\"132.007031\" xlink:href=\"#m6d59e6018e\" y=\"194.005566\"/>\n     <use style=\"fill:#1f77b4;stroke:#333333;\" x=\"123.603866\" xlink:href=\"#m6d59e6018e\" y=\"208.013344\"/>\n     <use style=\"fill:#1f77b4;stroke:#333333;\" x=\"117.600026\" xlink:href=\"#m6d59e6018e\" y=\"196.54739\"/>\n     <use style=\"fill:#1f77b4;stroke:#333333;\" x=\"124.438114\" xlink:href=\"#m6d59e6018e\" y=\"185.446512\"/>\n     <use style=\"fill:#1f77b4;stroke:#333333;\" x=\"111.278679\" xlink:href=\"#m6d59e6018e\" y=\"184.278931\"/>\n     <use style=\"fill:#1f77b4;stroke:#333333;\" x=\"216.68945\" xlink:href=\"#m6d59e6018e\" y=\"84.772214\"/>\n     <use style=\"fill:#1f77b4;stroke:#333333;\" x=\"218.491145\" xlink:href=\"#m6d59e6018e\" y=\"75.359751\"/>\n     <use style=\"fill:#1f77b4;stroke:#333333;\" x=\"226.541596\" xlink:href=\"#m6d59e6018e\" y=\"68.554227\"/>\n     <use style=\"fill:#1f77b4;stroke:#333333;\" x=\"118.17611\" xlink:href=\"#m6d59e6018e\" y=\"200.567778\"/>\n     <use style=\"fill:#1f77b4;stroke:#333333;\" x=\"221.648968\" xlink:href=\"#m6d59e6018e\" y=\"68.102763\"/>\n     <use style=\"fill:#1f77b4;stroke:#333333;\" x=\"221.549768\" xlink:href=\"#m6d59e6018e\" y=\"80.27635\"/>\n     <use style=\"fill:#1f77b4;stroke:#333333;\" x=\"123.669446\" xlink:href=\"#m6d59e6018e\" y=\"200.622622\"/>\n     <use style=\"fill:#1f77b4;stroke:#333333;\" x=\"89.035674\" xlink:href=\"#m6d59e6018e\" y=\"204.142584\"/>\n     <use style=\"fill:#1f77b4;stroke:#333333;\" x=\"106.913994\" xlink:href=\"#m6d59e6018e\" y=\"197.22292\"/>\n     <use style=\"fill:#1f77b4;stroke:#333333;\" x=\"214.874354\" xlink:href=\"#m6d59e6018e\" y=\"66.248332\"/>\n     <use style=\"fill:#1f77b4;stroke:#333333;\" x=\"226.253317\" xlink:href=\"#m6d59e6018e\" y=\"72.498579\"/>\n     <use style=\"fill:#1f77b4;stroke:#333333;\" x=\"87.906285\" xlink:href=\"#m6d59e6018e\" y=\"195.589406\"/>\n     <use style=\"fill:#1f77b4;stroke:#333333;\" x=\"211.855753\" xlink:href=\"#m6d59e6018e\" y=\"85.869827\"/>\n     <use style=\"fill:#1f77b4;stroke:#333333;\" x=\"130.57431\" xlink:href=\"#m6d59e6018e\" y=\"196.736991\"/>\n     <use style=\"fill:#1f77b4;stroke:#333333;\" x=\"223.62174\" xlink:href=\"#m6d59e6018e\" y=\"83.539249\"/>\n     <use style=\"fill:#1f77b4;stroke:#333333;\" x=\"136.826893\" xlink:href=\"#m6d59e6018e\" y=\"191.205423\"/>\n     <use style=\"fill:#1f77b4;stroke:#333333;\" x=\"232.961625\" xlink:href=\"#m6d59e6018e\" y=\"94.929118\"/>\n     <use style=\"fill:#1f77b4;stroke:#333333;\" x=\"230.248591\" xlink:href=\"#m6d59e6018e\" y=\"67.348479\"/>\n     <use style=\"fill:#1f77b4;stroke:#333333;\" x=\"100.284252\" xlink:href=\"#m6d59e6018e\" y=\"169.001559\"/>\n     <use style=\"fill:#1f77b4;stroke:#333333;\" x=\"236.343624\" xlink:href=\"#m6d59e6018e\" y=\"77.799319\"/>\n     <use style=\"fill:#1f77b4;stroke:#333333;\" x=\"211.276233\" xlink:href=\"#m6d59e6018e\" y=\"56.425969\"/>\n     <use style=\"fill:#1f77b4;stroke:#333333;\" x=\"118.206668\" xlink:href=\"#m6d59e6018e\" y=\"192.29122\"/>\n     <use style=\"fill:#1f77b4;stroke:#333333;\" x=\"99.559166\" xlink:href=\"#m6d59e6018e\" y=\"188.412774\"/>\n     <use style=\"fill:#1f77b4;stroke:#333333;\" x=\"108.309258\" xlink:href=\"#m6d59e6018e\" y=\"173.399197\"/>\n     <use style=\"fill:#1f77b4;stroke:#333333;\" x=\"97.253177\" xlink:href=\"#m6d59e6018e\" y=\"179.565937\"/>\n     <use style=\"fill:#1f77b4;stroke:#333333;\" x=\"227.65596\" xlink:href=\"#m6d59e6018e\" y=\"80.513752\"/>\n     <use style=\"fill:#1f77b4;stroke:#333333;\" x=\"237.13399\" xlink:href=\"#m6d59e6018e\" y=\"73.870403\"/>\n     <use style=\"fill:#1f77b4;stroke:#333333;\" x=\"215.462168\" xlink:href=\"#m6d59e6018e\" y=\"92.623859\"/>\n     <use style=\"fill:#1f77b4;stroke:#333333;\" x=\"103.654244\" xlink:href=\"#m6d59e6018e\" y=\"199.077204\"/>\n     <use style=\"fill:#1f77b4;stroke:#333333;\" x=\"217.074686\" xlink:href=\"#m6d59e6018e\" y=\"77.166072\"/>\n     <use style=\"fill:#1f77b4;stroke:#333333;\" x=\"214.077061\" xlink:href=\"#m6d59e6018e\" y=\"77.510023\"/>\n     <use style=\"fill:#1f77b4;stroke:#333333;\" x=\"101.347861\" xlink:href=\"#m6d59e6018e\" y=\"205.466283\"/>\n     <use style=\"fill:#1f77b4;stroke:#333333;\" x=\"123.715222\" xlink:href=\"#m6d59e6018e\" y=\"182.694565\"/>\n     <use style=\"fill:#1f77b4;stroke:#333333;\" x=\"94.356181\" xlink:href=\"#m6d59e6018e\" y=\"191.53198\"/>\n     <use style=\"fill:#1f77b4;stroke:#333333;\" x=\"115.47131\" xlink:href=\"#m6d59e6018e\" y=\"171.865248\"/>\n     <use style=\"fill:#1f77b4;stroke:#333333;\" x=\"219.119078\" xlink:href=\"#m6d59e6018e\" y=\"72.387081\"/>\n     <use style=\"fill:#1f77b4;stroke:#333333;\" x=\"233.952631\" xlink:href=\"#m6d59e6018e\" y=\"81.615487\"/>\n     <use style=\"fill:#1f77b4;stroke:#333333;\" x=\"121.964559\" xlink:href=\"#m6d59e6018e\" y=\"185.005019\"/>\n     <use style=\"fill:#1f77b4;stroke:#333333;\" x=\"137.694395\" xlink:href=\"#m6d59e6018e\" y=\"193.997546\"/>\n     <use style=\"fill:#1f77b4;stroke:#333333;\" x=\"115.756196\" xlink:href=\"#m6d59e6018e\" y=\"188.862967\"/>\n     <use style=\"fill:#1f77b4;stroke:#333333;\" x=\"225.277889\" xlink:href=\"#m6d59e6018e\" y=\"81.891058\"/>\n     <use style=\"fill:#1f77b4;stroke:#333333;\" x=\"224.577624\" xlink:href=\"#m6d59e6018e\" y=\"82.505104\"/>\n     <use style=\"fill:#1f77b4;stroke:#333333;\" x=\"109.90597\" xlink:href=\"#m6d59e6018e\" y=\"192.924311\"/>\n     <use style=\"fill:#1f77b4;stroke:#333333;\" x=\"215.162218\" xlink:href=\"#m6d59e6018e\" y=\"79.225323\"/>\n     <use style=\"fill:#1f77b4;stroke:#333333;\" x=\"197.706575\" xlink:href=\"#m6d59e6018e\" y=\"91.214107\"/>\n     <use style=\"fill:#1f77b4;stroke:#333333;\" x=\"222.710803\" xlink:href=\"#m6d59e6018e\" y=\"78.286398\"/>\n     <use style=\"fill:#1f77b4;stroke:#333333;\" x=\"131.63194\" xlink:href=\"#m6d59e6018e\" y=\"186.94123\"/>\n     <use style=\"fill:#1f77b4;stroke:#333333;\" x=\"226.834709\" xlink:href=\"#m6d59e6018e\" y=\"70.940696\"/>\n     <use style=\"fill:#1f77b4;stroke:#333333;\" x=\"117.8073\" xlink:href=\"#m6d59e6018e\" y=\"180.958522\"/>\n     <use style=\"fill:#1f77b4;stroke:#333333;\" x=\"120.154081\" xlink:href=\"#m6d59e6018e\" y=\"200.01239\"/>\n     <use style=\"fill:#1f77b4;stroke:#333333;\" x=\"130.114892\" xlink:href=\"#m6d59e6018e\" y=\"189.612325\"/>\n     <use style=\"fill:#1f77b4;stroke:#333333;\" x=\"210.238154\" xlink:href=\"#m6d59e6018e\" y=\"58.204906\"/>\n     <use style=\"fill:#1f77b4;stroke:#333333;\" x=\"227.376417\" xlink:href=\"#m6d59e6018e\" y=\"64.140279\"/>\n     <use style=\"fill:#1f77b4;stroke:#333333;\" x=\"219.24158\" xlink:href=\"#m6d59e6018e\" y=\"77.184658\"/>\n     <use style=\"fill:#1f77b4;stroke:#333333;\" x=\"123.283443\" xlink:href=\"#m6d59e6018e\" y=\"188.402557\"/>\n     <use style=\"fill:#1f77b4;stroke:#333333;\" x=\"103.60985\" xlink:href=\"#m6d59e6018e\" y=\"190.990731\"/>\n     <use style=\"fill:#1f77b4;stroke:#333333;\" x=\"123.8953\" xlink:href=\"#m6d59e6018e\" y=\"182.615194\"/>\n     <use style=\"fill:#1f77b4;stroke:#333333;\" x=\"207.449892\" xlink:href=\"#m6d59e6018e\" y=\"81.658496\"/>\n     <use style=\"fill:#1f77b4;stroke:#333333;\" x=\"123.594109\" xlink:href=\"#m6d59e6018e\" y=\"180.7934\"/>\n     <use style=\"fill:#1f77b4;stroke:#333333;\" x=\"115.291971\" xlink:href=\"#m6d59e6018e\" y=\"188.528658\"/>\n     <use style=\"fill:#1f77b4;stroke:#333333;\" x=\"107.878672\" xlink:href=\"#m6d59e6018e\" y=\"194.070349\"/>\n     <use style=\"fill:#1f77b4;stroke:#333333;\" x=\"113.509829\" xlink:href=\"#m6d59e6018e\" y=\"197.101768\"/>\n     <use style=\"fill:#1f77b4;stroke:#333333;\" x=\"205.371187\" xlink:href=\"#m6d59e6018e\" y=\"68.812036\"/>\n     <use style=\"fill:#1f77b4;stroke:#333333;\" x=\"208.120134\" xlink:href=\"#m6d59e6018e\" y=\"81.500165\"/>\n     <use style=\"fill:#1f77b4;stroke:#333333;\" x=\"98.774121\" xlink:href=\"#m6d59e6018e\" y=\"194.698522\"/>\n     <use style=\"fill:#1f77b4;stroke:#333333;\" x=\"191.415295\" xlink:href=\"#m6d59e6018e\" y=\"90.2748\"/>\n     <use style=\"fill:#1f77b4;stroke:#333333;\" x=\"103.533804\" xlink:href=\"#m6d59e6018e\" y=\"170.8597\"/>\n     <use style=\"fill:#1f77b4;stroke:#333333;\" x=\"106.438847\" xlink:href=\"#m6d59e6018e\" y=\"179.987766\"/>\n     <use style=\"fill:#1f77b4;stroke:#333333;\" x=\"212.633353\" xlink:href=\"#m6d59e6018e\" y=\"73.668557\"/>\n     <use style=\"fill:#1f77b4;stroke:#333333;\" x=\"109.659599\" xlink:href=\"#m6d59e6018e\" y=\"175.160043\"/>\n    </g>\n   </g>\n   <g id=\"PathCollection_2\">\n    <defs>\n     <path d=\"M 0 3 \nC 0.795609 3 1.55874 2.683901 2.12132 2.12132 \nC 2.683901 1.55874 3 0.795609 3 0 \nC 3 -0.795609 2.683901 -1.55874 2.12132 -2.12132 \nC 1.55874 -2.683901 0.795609 -3 0 -3 \nC -0.795609 -3 -1.55874 -2.683901 -2.12132 -2.12132 \nC -2.683901 -1.55874 -3 -0.795609 -3 0 \nC -3 0.795609 -2.683901 1.55874 -2.12132 2.12132 \nC -1.55874 2.683901 -0.795609 3 0 3 \nz\n\" id=\"m34b3b80548\" style=\"stroke:#333333;\"/>\n    </defs>\n    <g clip-path=\"url(#p5514d58729)\">\n     <use style=\"fill:#ff7f0e;stroke:#333333;\" x=\"220.974098\" xlink:href=\"#m34b3b80548\" y=\"190.35362\"/>\n     <use style=\"fill:#ff7f0e;stroke:#333333;\" x=\"211.595838\" xlink:href=\"#m34b3b80548\" y=\"197.378564\"/>\n     <use style=\"fill:#ff7f0e;stroke:#333333;\" x=\"102.082133\" xlink:href=\"#m34b3b80548\" y=\"71.438559\"/>\n     <use style=\"fill:#ff7f0e;stroke:#333333;\" x=\"119.97353\" xlink:href=\"#m34b3b80548\" y=\"75.303049\"/>\n     <use style=\"fill:#ff7f0e;stroke:#333333;\" x=\"113.849942\" xlink:href=\"#m34b3b80548\" y=\"94.330417\"/>\n     <use style=\"fill:#ff7f0e;stroke:#333333;\" x=\"101.242091\" xlink:href=\"#m34b3b80548\" y=\"79.73286\"/>\n     <use style=\"fill:#ff7f0e;stroke:#333333;\" x=\"107.09294\" xlink:href=\"#m34b3b80548\" y=\"80.891316\"/>\n     <use style=\"fill:#ff7f0e;stroke:#333333;\" x=\"234.957208\" xlink:href=\"#m34b3b80548\" y=\"176.580119\"/>\n     <use style=\"fill:#ff7f0e;stroke:#333333;\" x=\"227.513616\" xlink:href=\"#m34b3b80548\" y=\"186.538945\"/>\n     <use style=\"fill:#ff7f0e;stroke:#333333;\" x=\"204.65594\" xlink:href=\"#m34b3b80548\" y=\"176.196763\"/>\n     <use style=\"fill:#ff7f0e;stroke:#333333;\" x=\"104.602477\" xlink:href=\"#m34b3b80548\" y=\"74.773421\"/>\n     <use style=\"fill:#ff7f0e;stroke:#333333;\" x=\"219.676791\" xlink:href=\"#m34b3b80548\" y=\"199.054222\"/>\n     <use style=\"fill:#ff7f0e;stroke:#333333;\" x=\"217.201309\" xlink:href=\"#m34b3b80548\" y=\"196.174187\"/>\n     <use style=\"fill:#ff7f0e;stroke:#333333;\" x=\"216.471106\" xlink:href=\"#m34b3b80548\" y=\"171.978901\"/>\n     <use style=\"fill:#ff7f0e;stroke:#333333;\" x=\"211.390693\" xlink:href=\"#m34b3b80548\" y=\"179.399999\"/>\n     <use style=\"fill:#ff7f0e;stroke:#333333;\" x=\"211.035785\" xlink:href=\"#m34b3b80548\" y=\"201.6955\"/>\n     <use style=\"fill:#ff7f0e;stroke:#333333;\" x=\"126.724207\" xlink:href=\"#m34b3b80548\" y=\"60.615041\"/>\n     <use style=\"fill:#ff7f0e;stroke:#333333;\" x=\"220.990286\" xlink:href=\"#m34b3b80548\" y=\"182.306384\"/>\n     <use style=\"fill:#ff7f0e;stroke:#333333;\" x=\"106.138723\" xlink:href=\"#m34b3b80548\" y=\"73.548064\"/>\n     <use style=\"fill:#ff7f0e;stroke:#333333;\" x=\"234.236569\" xlink:href=\"#m34b3b80548\" y=\"193.201222\"/>\n     <use style=\"fill:#ff7f0e;stroke:#333333;\" x=\"92.748498\" xlink:href=\"#m34b3b80548\" y=\"78.316155\"/>\n     <use style=\"fill:#ff7f0e;stroke:#333333;\" x=\"135.088716\" xlink:href=\"#m34b3b80548\" y=\"73.235147\"/>\n     <use style=\"fill:#ff7f0e;stroke:#333333;\" x=\"221.667916\" xlink:href=\"#m34b3b80548\" y=\"188.9603\"/>\n     <use style=\"fill:#ff7f0e;stroke:#333333;\" x=\"219.400209\" xlink:href=\"#m34b3b80548\" y=\"185.601488\"/>\n     <use style=\"fill:#ff7f0e;stroke:#333333;\" x=\"118.151133\" xlink:href=\"#m34b3b80548\" y=\"73.586219\"/>\n     <use style=\"fill:#ff7f0e;stroke:#333333;\" x=\"213.849469\" xlink:href=\"#m34b3b80548\" y=\"179.566231\"/>\n     <use style=\"fill:#ff7f0e;stroke:#333333;\" x=\"124.284707\" xlink:href=\"#m34b3b80548\" y=\"90.986826\"/>\n     <use style=\"fill:#ff7f0e;stroke:#333333;\" x=\"111.813406\" xlink:href=\"#m34b3b80548\" y=\"99.232566\"/>\n     <use style=\"fill:#ff7f0e;stroke:#333333;\" x=\"215.134898\" xlink:href=\"#m34b3b80548\" y=\"173.448855\"/>\n     <use style=\"fill:#ff7f0e;stroke:#333333;\" x=\"236.240809\" xlink:href=\"#m34b3b80548\" y=\"185.651778\"/>\n     <use style=\"fill:#ff7f0e;stroke:#333333;\" x=\"119.415084\" xlink:href=\"#m34b3b80548\" y=\"64.633696\"/>\n     <use style=\"fill:#ff7f0e;stroke:#333333;\" x=\"107.80693\" xlink:href=\"#m34b3b80548\" y=\"77.592905\"/>\n     <use style=\"fill:#ff7f0e;stroke:#333333;\" x=\"90.952583\" xlink:href=\"#m34b3b80548\" y=\"79.404974\"/>\n     <use style=\"fill:#ff7f0e;stroke:#333333;\" x=\"225.372461\" xlink:href=\"#m34b3b80548\" y=\"171.300376\"/>\n     <use style=\"fill:#ff7f0e;stroke:#333333;\" x=\"122.498912\" xlink:href=\"#m34b3b80548\" y=\"76.586404\"/>\n     <use style=\"fill:#ff7f0e;stroke:#333333;\" x=\"241.441067\" xlink:href=\"#m34b3b80548\" y=\"190.649076\"/>\n     <use style=\"fill:#ff7f0e;stroke:#333333;\" x=\"119.49231\" xlink:href=\"#m34b3b80548\" y=\"85.647996\"/>\n     <use style=\"fill:#ff7f0e;stroke:#333333;\" x=\"126.455645\" xlink:href=\"#m34b3b80548\" y=\"95.501594\"/>\n     <use style=\"fill:#ff7f0e;stroke:#333333;\" x=\"133.465316\" xlink:href=\"#m34b3b80548\" y=\"66.361827\"/>\n     <use style=\"fill:#ff7f0e;stroke:#333333;\" x=\"211.918079\" xlink:href=\"#m34b3b80548\" y=\"208.115459\"/>\n     <use style=\"fill:#ff7f0e;stroke:#333333;\" x=\"126.530326\" xlink:href=\"#m34b3b80548\" y=\"71.650319\"/>\n     <use style=\"fill:#ff7f0e;stroke:#333333;\" x=\"117.035739\" xlink:href=\"#m34b3b80548\" y=\"79.006052\"/>\n     <use style=\"fill:#ff7f0e;stroke:#333333;\" x=\"206.804812\" xlink:href=\"#m34b3b80548\" y=\"188.199306\"/>\n     <use style=\"fill:#ff7f0e;stroke:#333333;\" x=\"218.251318\" xlink:href=\"#m34b3b80548\" y=\"184.614691\"/>\n     <use style=\"fill:#ff7f0e;stroke:#333333;\" x=\"116.083256\" xlink:href=\"#m34b3b80548\" y=\"80.582728\"/>\n     <use style=\"fill:#ff7f0e;stroke:#333333;\" x=\"114.095444\" xlink:href=\"#m34b3b80548\" y=\"55.575078\"/>\n     <use style=\"fill:#ff7f0e;stroke:#333333;\" x=\"219.781946\" xlink:href=\"#m34b3b80548\" y=\"180.375193\"/>\n     <use style=\"fill:#ff7f0e;stroke:#333333;\" x=\"215.831508\" xlink:href=\"#m34b3b80548\" y=\"189.105868\"/>\n     <use style=\"fill:#ff7f0e;stroke:#333333;\" x=\"115.119675\" xlink:href=\"#m34b3b80548\" y=\"69.431013\"/>\n     <use style=\"fill:#ff7f0e;stroke:#333333;\" x=\"108.045447\" xlink:href=\"#m34b3b80548\" y=\"59.053257\"/>\n     <use style=\"fill:#ff7f0e;stroke:#333333;\" x=\"100.627527\" xlink:href=\"#m34b3b80548\" y=\"94.367465\"/>\n     <use style=\"fill:#ff7f0e;stroke:#333333;\" x=\"118.35842\" xlink:href=\"#m34b3b80548\" y=\"78.561522\"/>\n     <use style=\"fill:#ff7f0e;stroke:#333333;\" x=\"113.636113\" xlink:href=\"#m34b3b80548\" y=\"58.888918\"/>\n     <use style=\"fill:#ff7f0e;stroke:#333333;\" x=\"112.868676\" xlink:href=\"#m34b3b80548\" y=\"72.551627\"/>\n     <use style=\"fill:#ff7f0e;stroke:#333333;\" x=\"108.656238\" xlink:href=\"#m34b3b80548\" y=\"67.733883\"/>\n     <use style=\"fill:#ff7f0e;stroke:#333333;\" x=\"208.357006\" xlink:href=\"#m34b3b80548\" y=\"195.659042\"/>\n     <use style=\"fill:#ff7f0e;stroke:#333333;\" x=\"95.14433\" xlink:href=\"#m34b3b80548\" y=\"96.310124\"/>\n     <use style=\"fill:#ff7f0e;stroke:#333333;\" x=\"219.08308\" xlink:href=\"#m34b3b80548\" y=\"181.088048\"/>\n     <use style=\"fill:#ff7f0e;stroke:#333333;\" x=\"217.984638\" xlink:href=\"#m34b3b80548\" y=\"183.332801\"/>\n     <use style=\"fill:#ff7f0e;stroke:#333333;\" x=\"235.229921\" xlink:href=\"#m34b3b80548\" y=\"162.496667\"/>\n     <use style=\"fill:#ff7f0e;stroke:#333333;\" x=\"216.116722\" xlink:href=\"#m34b3b80548\" y=\"187.109323\"/>\n     <use style=\"fill:#ff7f0e;stroke:#333333;\" x=\"114.338545\" xlink:href=\"#m34b3b80548\" y=\"85.400925\"/>\n     <use style=\"fill:#ff7f0e;stroke:#333333;\" x=\"203.541777\" xlink:href=\"#m34b3b80548\" y=\"180.263977\"/>\n     <use style=\"fill:#ff7f0e;stroke:#333333;\" x=\"212.788087\" xlink:href=\"#m34b3b80548\" y=\"177.849051\"/>\n     <use style=\"fill:#ff7f0e;stroke:#333333;\" x=\"116.281848\" xlink:href=\"#m34b3b80548\" y=\"79.073453\"/>\n     <use style=\"fill:#ff7f0e;stroke:#333333;\" x=\"130.981711\" xlink:href=\"#m34b3b80548\" y=\"69.318154\"/>\n     <use style=\"fill:#ff7f0e;stroke:#333333;\" x=\"246.403772\" xlink:href=\"#m34b3b80548\" y=\"175.09917\"/>\n     <use style=\"fill:#ff7f0e;stroke:#333333;\" x=\"116.217405\" xlink:href=\"#m34b3b80548\" y=\"74.357028\"/>\n     <use style=\"fill:#ff7f0e;stroke:#333333;\" x=\"116.806278\" xlink:href=\"#m34b3b80548\" y=\"50.470171\"/>\n     <use style=\"fill:#ff7f0e;stroke:#333333;\" x=\"120.803718\" xlink:href=\"#m34b3b80548\" y=\"95.771404\"/>\n     <use style=\"fill:#ff7f0e;stroke:#333333;\" x=\"224.068434\" xlink:href=\"#m34b3b80548\" y=\"193.199124\"/>\n     <use style=\"fill:#ff7f0e;stroke:#333333;\" x=\"212.014213\" xlink:href=\"#m34b3b80548\" y=\"179.613484\"/>\n     <use style=\"fill:#ff7f0e;stroke:#333333;\" x=\"213.218905\" xlink:href=\"#m34b3b80548\" y=\"191.641772\"/>\n     <use style=\"fill:#ff7f0e;stroke:#333333;\" x=\"112.415674\" xlink:href=\"#m34b3b80548\" y=\"72.821087\"/>\n     <use style=\"fill:#ff7f0e;stroke:#333333;\" x=\"229.396922\" xlink:href=\"#m34b3b80548\" y=\"206.204681\"/>\n     <use style=\"fill:#ff7f0e;stroke:#333333;\" x=\"214.489546\" xlink:href=\"#m34b3b80548\" y=\"196.2709\"/>\n     <use style=\"fill:#ff7f0e;stroke:#333333;\" x=\"225.831662\" xlink:href=\"#m34b3b80548\" y=\"173.986053\"/>\n     <use style=\"fill:#ff7f0e;stroke:#333333;\" x=\"133.309916\" xlink:href=\"#m34b3b80548\" y=\"66.385363\"/>\n     <use style=\"fill:#ff7f0e;stroke:#333333;\" x=\"98.450249\" xlink:href=\"#m34b3b80548\" y=\"80.199987\"/>\n     <use style=\"fill:#ff7f0e;stroke:#333333;\" x=\"214.323549\" xlink:href=\"#m34b3b80548\" y=\"186.382749\"/>\n     <use style=\"fill:#ff7f0e;stroke:#333333;\" x=\"123.499114\" xlink:href=\"#m34b3b80548\" y=\"96.274781\"/>\n     <use style=\"fill:#ff7f0e;stroke:#333333;\" x=\"127.700128\" xlink:href=\"#m34b3b80548\" y=\"64.202282\"/>\n     <use style=\"fill:#ff7f0e;stroke:#333333;\" x=\"119.326946\" xlink:href=\"#m34b3b80548\" y=\"75.874798\"/>\n     <use style=\"fill:#ff7f0e;stroke:#333333;\" x=\"122.166613\" xlink:href=\"#m34b3b80548\" y=\"71.794219\"/>\n     <use style=\"fill:#ff7f0e;stroke:#333333;\" x=\"224.537965\" xlink:href=\"#m34b3b80548\" y=\"198.411916\"/>\n     <use style=\"fill:#ff7f0e;stroke:#333333;\" x=\"225.505759\" xlink:href=\"#m34b3b80548\" y=\"194.994263\"/>\n     <use style=\"fill:#ff7f0e;stroke:#333333;\" x=\"101.943985\" xlink:href=\"#m34b3b80548\" y=\"82.774253\"/>\n     <use style=\"fill:#ff7f0e;stroke:#333333;\" x=\"226.5702\" xlink:href=\"#m34b3b80548\" y=\"161.927225\"/>\n     <use style=\"fill:#ff7f0e;stroke:#333333;\" x=\"131.301172\" xlink:href=\"#m34b3b80548\" y=\"85.536588\"/>\n     <use style=\"fill:#ff7f0e;stroke:#333333;\" x=\"228.524283\" xlink:href=\"#m34b3b80548\" y=\"155.34746\"/>\n     <use style=\"fill:#ff7f0e;stroke:#333333;\" x=\"205.951536\" xlink:href=\"#m34b3b80548\" y=\"203.516117\"/>\n     <use style=\"fill:#ff7f0e;stroke:#333333;\" x=\"230.098535\" xlink:href=\"#m34b3b80548\" y=\"188.307903\"/>\n     <use style=\"fill:#ff7f0e;stroke:#333333;\" x=\"117.520068\" xlink:href=\"#m34b3b80548\" y=\"78.001813\"/>\n     <use style=\"fill:#ff7f0e;stroke:#333333;\" x=\"124.961563\" xlink:href=\"#m34b3b80548\" y=\"68.767919\"/>\n     <use style=\"fill:#ff7f0e;stroke:#333333;\" x=\"121.685862\" xlink:href=\"#m34b3b80548\" y=\"75.443047\"/>\n     <use style=\"fill:#ff7f0e;stroke:#333333;\" x=\"105.735023\" xlink:href=\"#m34b3b80548\" y=\"79.820933\"/>\n    </g>\n   </g>\n   <g id=\"matplotlib.axis_1\">\n    <g id=\"xtick_1\">\n     <g id=\"line2d_1\">\n      <defs>\n       <path d=\"M 0 0 \nL 0 3.5 \n\" id=\"mcb4e838706\" style=\"stroke:#000000;stroke-width:0.8;\"/>\n      </defs>\n      <g>\n       <use style=\"stroke:#000000;stroke-width:0.8;\" x=\"58.523438\" xlink:href=\"#mcb4e838706\" y=\"239.758125\"/>\n      </g>\n     </g>\n     <g id=\"text_1\">\n      <!-- −0.5 -->\n      <g transform=\"translate(46.382031 254.356562)scale(0.1 -0.1)\">\n       <defs>\n        <path d=\"M 10.59375 35.5 \nL 73.1875 35.5 \nL 73.1875 27.203125 \nL 10.59375 27.203125 \nz\n\" id=\"DejaVuSans-8722\"/>\n        <path d=\"M 31.78125 66.40625 \nQ 24.171875 66.40625 20.328125 58.90625 \nQ 16.5 51.421875 16.5 36.375 \nQ 16.5 21.390625 20.328125 13.890625 \nQ 24.171875 6.390625 31.78125 6.390625 \nQ 39.453125 6.390625 43.28125 13.890625 \nQ 47.125 21.390625 47.125 36.375 \nQ 47.125 51.421875 43.28125 58.90625 \nQ 39.453125 66.40625 31.78125 66.40625 \nz\nM 31.78125 74.21875 \nQ 44.046875 74.21875 50.515625 64.515625 \nQ 56.984375 54.828125 56.984375 36.375 \nQ 56.984375 17.96875 50.515625 8.265625 \nQ 44.046875 -1.421875 31.78125 -1.421875 \nQ 19.53125 -1.421875 13.0625 8.265625 \nQ 6.59375 17.96875 6.59375 36.375 \nQ 6.59375 54.828125 13.0625 64.515625 \nQ 19.53125 74.21875 31.78125 74.21875 \nz\n\" id=\"DejaVuSans-48\"/>\n        <path d=\"M 10.6875 12.40625 \nL 21 12.40625 \nL 21 0 \nL 10.6875 0 \nz\n\" id=\"DejaVuSans-46\"/>\n        <path d=\"M 10.796875 72.90625 \nL 49.515625 72.90625 \nL 49.515625 64.59375 \nL 19.828125 64.59375 \nL 19.828125 46.734375 \nQ 21.96875 47.46875 24.109375 47.828125 \nQ 26.265625 48.1875 28.421875 48.1875 \nQ 40.625 48.1875 47.75 41.5 \nQ 54.890625 34.8125 54.890625 23.390625 \nQ 54.890625 11.625 47.5625 5.09375 \nQ 40.234375 -1.421875 26.90625 -1.421875 \nQ 22.3125 -1.421875 17.546875 -0.640625 \nQ 12.796875 0.140625 7.71875 1.703125 \nL 7.71875 11.625 \nQ 12.109375 9.234375 16.796875 8.0625 \nQ 21.484375 6.890625 26.703125 6.890625 \nQ 35.15625 6.890625 40.078125 11.328125 \nQ 45.015625 15.765625 45.015625 23.390625 \nQ 45.015625 31 40.078125 35.4375 \nQ 35.15625 39.890625 26.703125 39.890625 \nQ 22.75 39.890625 18.8125 39.015625 \nQ 14.890625 38.140625 10.796875 36.28125 \nz\n\" id=\"DejaVuSans-53\"/>\n       </defs>\n       <use xlink:href=\"#DejaVuSans-8722\"/>\n       <use x=\"83.789062\" xlink:href=\"#DejaVuSans-48\"/>\n       <use x=\"147.412109\" xlink:href=\"#DejaVuSans-46\"/>\n       <use x=\"179.199219\" xlink:href=\"#DejaVuSans-53\"/>\n      </g>\n     </g>\n    </g>\n    <g id=\"xtick_2\">\n     <g id=\"line2d_2\">\n      <g>\n       <use style=\"stroke:#000000;stroke-width:0.8;\" x=\"112.883437\" xlink:href=\"#mcb4e838706\" y=\"239.758125\"/>\n      </g>\n     </g>\n     <g id=\"text_2\">\n      <!-- 0.0 -->\n      <g transform=\"translate(104.931875 254.356562)scale(0.1 -0.1)\">\n       <use xlink:href=\"#DejaVuSans-48\"/>\n       <use x=\"63.623047\" xlink:href=\"#DejaVuSans-46\"/>\n       <use x=\"95.410156\" xlink:href=\"#DejaVuSans-48\"/>\n      </g>\n     </g>\n    </g>\n    <g id=\"xtick_3\">\n     <g id=\"line2d_3\">\n      <g>\n       <use style=\"stroke:#000000;stroke-width:0.8;\" x=\"167.243437\" xlink:href=\"#mcb4e838706\" y=\"239.758125\"/>\n      </g>\n     </g>\n     <g id=\"text_3\">\n      <!-- 0.5 -->\n      <g transform=\"translate(159.291875 254.356562)scale(0.1 -0.1)\">\n       <use xlink:href=\"#DejaVuSans-48\"/>\n       <use x=\"63.623047\" xlink:href=\"#DejaVuSans-46\"/>\n       <use x=\"95.410156\" xlink:href=\"#DejaVuSans-53\"/>\n      </g>\n     </g>\n    </g>\n    <g id=\"xtick_4\">\n     <g id=\"line2d_4\">\n      <g>\n       <use style=\"stroke:#000000;stroke-width:0.8;\" x=\"221.603437\" xlink:href=\"#mcb4e838706\" y=\"239.758125\"/>\n      </g>\n     </g>\n     <g id=\"text_4\">\n      <!-- 1.0 -->\n      <g transform=\"translate(213.651875 254.356562)scale(0.1 -0.1)\">\n       <defs>\n        <path d=\"M 12.40625 8.296875 \nL 28.515625 8.296875 \nL 28.515625 63.921875 \nL 10.984375 60.40625 \nL 10.984375 69.390625 \nL 28.421875 72.90625 \nL 38.28125 72.90625 \nL 38.28125 8.296875 \nL 54.390625 8.296875 \nL 54.390625 0 \nL 12.40625 0 \nz\n\" id=\"DejaVuSans-49\"/>\n       </defs>\n       <use xlink:href=\"#DejaVuSans-49\"/>\n       <use x=\"63.623047\" xlink:href=\"#DejaVuSans-46\"/>\n       <use x=\"95.410156\" xlink:href=\"#DejaVuSans-48\"/>\n      </g>\n     </g>\n    </g>\n    <g id=\"xtick_5\">\n     <g id=\"line2d_5\">\n      <g>\n       <use style=\"stroke:#000000;stroke-width:0.8;\" x=\"275.963437\" xlink:href=\"#mcb4e838706\" y=\"239.758125\"/>\n      </g>\n     </g>\n     <g id=\"text_5\">\n      <!-- 1.5 -->\n      <g transform=\"translate(268.011875 254.356562)scale(0.1 -0.1)\">\n       <use xlink:href=\"#DejaVuSans-49\"/>\n       <use x=\"63.623047\" xlink:href=\"#DejaVuSans-46\"/>\n       <use x=\"95.410156\" xlink:href=\"#DejaVuSans-53\"/>\n      </g>\n     </g>\n    </g>\n    <g id=\"text_6\">\n     <!-- $x_1$ -->\n     <g transform=\"translate(161.893438 268.034687)scale(0.1 -0.1)\">\n      <defs>\n       <path d=\"M 60.015625 54.6875 \nL 34.90625 27.875 \nL 50.296875 0 \nL 39.984375 0 \nL 28.421875 21.6875 \nL 8.296875 0 \nL -2.59375 0 \nL 24.3125 28.8125 \nL 10.015625 54.6875 \nL 20.3125 54.6875 \nL 30.8125 34.90625 \nL 49.125 54.6875 \nz\n\" id=\"DejaVuSans-Oblique-120\"/>\n      </defs>\n      <use transform=\"translate(0 0.3125)\" xlink:href=\"#DejaVuSans-Oblique-120\"/>\n      <use transform=\"translate(59.179688 -16.09375)scale(0.7)\" xlink:href=\"#DejaVuSans-49\"/>\n     </g>\n    </g>\n   </g>\n   <g id=\"matplotlib.axis_2\">\n    <g id=\"ytick_1\">\n     <g id=\"line2d_6\">\n      <defs>\n       <path d=\"M 0 0 \nL -3.5 0 \n\" id=\"m6477119a2b\" style=\"stroke:#000000;stroke-width:0.8;\"/>\n      </defs>\n      <g>\n       <use style=\"stroke:#000000;stroke-width:0.8;\" x=\"58.523438\" xlink:href=\"#m6477119a2b\" y=\"239.758125\"/>\n      </g>\n     </g>\n     <g id=\"text_7\">\n      <!-- −0.50 -->\n      <g transform=\"translate(20.878125 243.557344)scale(0.1 -0.1)\">\n       <use xlink:href=\"#DejaVuSans-8722\"/>\n       <use x=\"83.789062\" xlink:href=\"#DejaVuSans-48\"/>\n       <use x=\"147.412109\" xlink:href=\"#DejaVuSans-46\"/>\n       <use x=\"179.199219\" xlink:href=\"#DejaVuSans-53\"/>\n       <use x=\"242.822266\" xlink:href=\"#DejaVuSans-48\"/>\n      </g>\n     </g>\n    </g>\n    <g id=\"ytick_2\">\n     <g id=\"line2d_7\">\n      <g>\n       <use style=\"stroke:#000000;stroke-width:0.8;\" x=\"58.523438\" xlink:href=\"#m6477119a2b\" y=\"212.578125\"/>\n      </g>\n     </g>\n     <g id=\"text_8\">\n      <!-- −0.25 -->\n      <g transform=\"translate(20.878125 216.377344)scale(0.1 -0.1)\">\n       <defs>\n        <path d=\"M 19.1875 8.296875 \nL 53.609375 8.296875 \nL 53.609375 0 \nL 7.328125 0 \nL 7.328125 8.296875 \nQ 12.9375 14.109375 22.625 23.890625 \nQ 32.328125 33.6875 34.8125 36.53125 \nQ 39.546875 41.84375 41.421875 45.53125 \nQ 43.3125 49.21875 43.3125 52.78125 \nQ 43.3125 58.59375 39.234375 62.25 \nQ 35.15625 65.921875 28.609375 65.921875 \nQ 23.96875 65.921875 18.8125 64.3125 \nQ 13.671875 62.703125 7.8125 59.421875 \nL 7.8125 69.390625 \nQ 13.765625 71.78125 18.9375 73 \nQ 24.125 74.21875 28.421875 74.21875 \nQ 39.75 74.21875 46.484375 68.546875 \nQ 53.21875 62.890625 53.21875 53.421875 \nQ 53.21875 48.921875 51.53125 44.890625 \nQ 49.859375 40.875 45.40625 35.40625 \nQ 44.1875 33.984375 37.640625 27.21875 \nQ 31.109375 20.453125 19.1875 8.296875 \nz\n\" id=\"DejaVuSans-50\"/>\n       </defs>\n       <use xlink:href=\"#DejaVuSans-8722\"/>\n       <use x=\"83.789062\" xlink:href=\"#DejaVuSans-48\"/>\n       <use x=\"147.412109\" xlink:href=\"#DejaVuSans-46\"/>\n       <use x=\"179.199219\" xlink:href=\"#DejaVuSans-50\"/>\n       <use x=\"242.822266\" xlink:href=\"#DejaVuSans-53\"/>\n      </g>\n     </g>\n    </g>\n    <g id=\"ytick_3\">\n     <g id=\"line2d_8\">\n      <g>\n       <use style=\"stroke:#000000;stroke-width:0.8;\" x=\"58.523438\" xlink:href=\"#m6477119a2b\" y=\"185.398125\"/>\n      </g>\n     </g>\n     <g id=\"text_9\">\n      <!-- 0.00 -->\n      <g transform=\"translate(29.257812 189.197344)scale(0.1 -0.1)\">\n       <use xlink:href=\"#DejaVuSans-48\"/>\n       <use x=\"63.623047\" xlink:href=\"#DejaVuSans-46\"/>\n       <use x=\"95.410156\" xlink:href=\"#DejaVuSans-48\"/>\n       <use x=\"159.033203\" xlink:href=\"#DejaVuSans-48\"/>\n      </g>\n     </g>\n    </g>\n    <g id=\"ytick_4\">\n     <g id=\"line2d_9\">\n      <g>\n       <use style=\"stroke:#000000;stroke-width:0.8;\" x=\"58.523438\" xlink:href=\"#m6477119a2b\" y=\"158.218125\"/>\n      </g>\n     </g>\n     <g id=\"text_10\">\n      <!-- 0.25 -->\n      <g transform=\"translate(29.257812 162.017344)scale(0.1 -0.1)\">\n       <use xlink:href=\"#DejaVuSans-48\"/>\n       <use x=\"63.623047\" xlink:href=\"#DejaVuSans-46\"/>\n       <use x=\"95.410156\" xlink:href=\"#DejaVuSans-50\"/>\n       <use x=\"159.033203\" xlink:href=\"#DejaVuSans-53\"/>\n      </g>\n     </g>\n    </g>\n    <g id=\"ytick_5\">\n     <g id=\"line2d_10\">\n      <g>\n       <use style=\"stroke:#000000;stroke-width:0.8;\" x=\"58.523438\" xlink:href=\"#m6477119a2b\" y=\"131.038125\"/>\n      </g>\n     </g>\n     <g id=\"text_11\">\n      <!-- 0.50 -->\n      <g transform=\"translate(29.257812 134.837344)scale(0.1 -0.1)\">\n       <use xlink:href=\"#DejaVuSans-48\"/>\n       <use x=\"63.623047\" xlink:href=\"#DejaVuSans-46\"/>\n       <use x=\"95.410156\" xlink:href=\"#DejaVuSans-53\"/>\n       <use x=\"159.033203\" xlink:href=\"#DejaVuSans-48\"/>\n      </g>\n     </g>\n    </g>\n    <g id=\"ytick_6\">\n     <g id=\"line2d_11\">\n      <g>\n       <use style=\"stroke:#000000;stroke-width:0.8;\" x=\"58.523438\" xlink:href=\"#m6477119a2b\" y=\"103.858125\"/>\n      </g>\n     </g>\n     <g id=\"text_12\">\n      <!-- 0.75 -->\n      <g transform=\"translate(29.257812 107.657344)scale(0.1 -0.1)\">\n       <defs>\n        <path d=\"M 8.203125 72.90625 \nL 55.078125 72.90625 \nL 55.078125 68.703125 \nL 28.609375 0 \nL 18.3125 0 \nL 43.21875 64.59375 \nL 8.203125 64.59375 \nz\n\" id=\"DejaVuSans-55\"/>\n       </defs>\n       <use xlink:href=\"#DejaVuSans-48\"/>\n       <use x=\"63.623047\" xlink:href=\"#DejaVuSans-46\"/>\n       <use x=\"95.410156\" xlink:href=\"#DejaVuSans-55\"/>\n       <use x=\"159.033203\" xlink:href=\"#DejaVuSans-53\"/>\n      </g>\n     </g>\n    </g>\n    <g id=\"ytick_7\">\n     <g id=\"line2d_12\">\n      <g>\n       <use style=\"stroke:#000000;stroke-width:0.8;\" x=\"58.523438\" xlink:href=\"#m6477119a2b\" y=\"76.678125\"/>\n      </g>\n     </g>\n     <g id=\"text_13\">\n      <!-- 1.00 -->\n      <g transform=\"translate(29.257812 80.477344)scale(0.1 -0.1)\">\n       <use xlink:href=\"#DejaVuSans-49\"/>\n       <use x=\"63.623047\" xlink:href=\"#DejaVuSans-46\"/>\n       <use x=\"95.410156\" xlink:href=\"#DejaVuSans-48\"/>\n       <use x=\"159.033203\" xlink:href=\"#DejaVuSans-48\"/>\n      </g>\n     </g>\n    </g>\n    <g id=\"ytick_8\">\n     <g id=\"line2d_13\">\n      <g>\n       <use style=\"stroke:#000000;stroke-width:0.8;\" x=\"58.523438\" xlink:href=\"#m6477119a2b\" y=\"49.498125\"/>\n      </g>\n     </g>\n     <g id=\"text_14\">\n      <!-- 1.25 -->\n      <g transform=\"translate(29.257812 53.297344)scale(0.1 -0.1)\">\n       <use xlink:href=\"#DejaVuSans-49\"/>\n       <use x=\"63.623047\" xlink:href=\"#DejaVuSans-46\"/>\n       <use x=\"95.410156\" xlink:href=\"#DejaVuSans-50\"/>\n       <use x=\"159.033203\" xlink:href=\"#DejaVuSans-53\"/>\n      </g>\n     </g>\n    </g>\n    <g id=\"ytick_9\">\n     <g id=\"line2d_14\">\n      <g>\n       <use style=\"stroke:#000000;stroke-width:0.8;\" x=\"58.523438\" xlink:href=\"#m6477119a2b\" y=\"22.318125\"/>\n      </g>\n     </g>\n     <g id=\"text_15\">\n      <!-- 1.50 -->\n      <g transform=\"translate(29.257812 26.117344)scale(0.1 -0.1)\">\n       <use xlink:href=\"#DejaVuSans-49\"/>\n       <use x=\"63.623047\" xlink:href=\"#DejaVuSans-46\"/>\n       <use x=\"95.410156\" xlink:href=\"#DejaVuSans-53\"/>\n       <use x=\"159.033203\" xlink:href=\"#DejaVuSans-48\"/>\n      </g>\n     </g>\n    </g>\n    <g id=\"text_16\">\n     <!-- $x_2$ -->\n     <g transform=\"translate(14.798437 136.388125)rotate(-90)scale(0.1 -0.1)\">\n      <use transform=\"translate(0 0.3125)\" xlink:href=\"#DejaVuSans-Oblique-120\"/>\n      <use transform=\"translate(59.179688 -16.09375)scale(0.7)\" xlink:href=\"#DejaVuSans-50\"/>\n     </g>\n    </g>\n   </g>\n   <g id=\"patch_3\">\n    <path d=\"M 58.523438 239.758125 \nL 58.523438 22.318125 \n\" style=\"fill:none;stroke:#000000;stroke-linecap:square;stroke-linejoin:miter;stroke-width:0.8;\"/>\n   </g>\n   <g id=\"patch_4\">\n    <path d=\"M 275.963437 239.758125 \nL 275.963437 22.318125 \n\" style=\"fill:none;stroke:#000000;stroke-linecap:square;stroke-linejoin:miter;stroke-width:0.8;\"/>\n   </g>\n   <g id=\"patch_5\">\n    <path d=\"M 58.523438 239.758125 \nL 275.963437 239.758125 \n\" style=\"fill:none;stroke:#000000;stroke-linecap:square;stroke-linejoin:miter;stroke-width:0.8;\"/>\n   </g>\n   <g id=\"patch_6\">\n    <path d=\"M 58.523438 22.318125 \nL 275.963437 22.318125 \n\" style=\"fill:none;stroke:#000000;stroke-linecap:square;stroke-linejoin:miter;stroke-width:0.8;\"/>\n   </g>\n   <g id=\"text_17\">\n    <!-- Dataset samples -->\n    <g transform=\"translate(116.900625 16.318125)scale(0.12 -0.12)\">\n     <defs>\n      <path d=\"M 19.671875 64.796875 \nL 19.671875 8.109375 \nL 31.59375 8.109375 \nQ 46.6875 8.109375 53.6875 14.9375 \nQ 60.6875 21.78125 60.6875 36.53125 \nQ 60.6875 51.171875 53.6875 57.984375 \nQ 46.6875 64.796875 31.59375 64.796875 \nz\nM 9.8125 72.90625 \nL 30.078125 72.90625 \nQ 51.265625 72.90625 61.171875 64.09375 \nQ 71.09375 55.28125 71.09375 36.53125 \nQ 71.09375 17.671875 61.125 8.828125 \nQ 51.171875 0 30.078125 0 \nL 9.8125 0 \nz\n\" id=\"DejaVuSans-68\"/>\n      <path d=\"M 34.28125 27.484375 \nQ 23.390625 27.484375 19.1875 25 \nQ 14.984375 22.515625 14.984375 16.5 \nQ 14.984375 11.71875 18.140625 8.90625 \nQ 21.296875 6.109375 26.703125 6.109375 \nQ 34.1875 6.109375 38.703125 11.40625 \nQ 43.21875 16.703125 43.21875 25.484375 \nL 43.21875 27.484375 \nz\nM 52.203125 31.203125 \nL 52.203125 0 \nL 43.21875 0 \nL 43.21875 8.296875 \nQ 40.140625 3.328125 35.546875 0.953125 \nQ 30.953125 -1.421875 24.3125 -1.421875 \nQ 15.921875 -1.421875 10.953125 3.296875 \nQ 6 8.015625 6 15.921875 \nQ 6 25.140625 12.171875 29.828125 \nQ 18.359375 34.515625 30.609375 34.515625 \nL 43.21875 34.515625 \nL 43.21875 35.40625 \nQ 43.21875 41.609375 39.140625 45 \nQ 35.0625 48.390625 27.6875 48.390625 \nQ 23 48.390625 18.546875 47.265625 \nQ 14.109375 46.140625 10.015625 43.890625 \nL 10.015625 52.203125 \nQ 14.9375 54.109375 19.578125 55.046875 \nQ 24.21875 56 28.609375 56 \nQ 40.484375 56 46.34375 49.84375 \nQ 52.203125 43.703125 52.203125 31.203125 \nz\n\" id=\"DejaVuSans-97\"/>\n      <path d=\"M 18.3125 70.21875 \nL 18.3125 54.6875 \nL 36.8125 54.6875 \nL 36.8125 47.703125 \nL 18.3125 47.703125 \nL 18.3125 18.015625 \nQ 18.3125 11.328125 20.140625 9.421875 \nQ 21.96875 7.515625 27.59375 7.515625 \nL 36.8125 7.515625 \nL 36.8125 0 \nL 27.59375 0 \nQ 17.1875 0 13.234375 3.875 \nQ 9.28125 7.765625 9.28125 18.015625 \nL 9.28125 47.703125 \nL 2.6875 47.703125 \nL 2.6875 54.6875 \nL 9.28125 54.6875 \nL 9.28125 70.21875 \nz\n\" id=\"DejaVuSans-116\"/>\n      <path d=\"M 44.28125 53.078125 \nL 44.28125 44.578125 \nQ 40.484375 46.53125 36.375 47.5 \nQ 32.28125 48.484375 27.875 48.484375 \nQ 21.1875 48.484375 17.84375 46.4375 \nQ 14.5 44.390625 14.5 40.28125 \nQ 14.5 37.15625 16.890625 35.375 \nQ 19.28125 33.59375 26.515625 31.984375 \nL 29.59375 31.296875 \nQ 39.15625 29.25 43.1875 25.515625 \nQ 47.21875 21.78125 47.21875 15.09375 \nQ 47.21875 7.46875 41.1875 3.015625 \nQ 35.15625 -1.421875 24.609375 -1.421875 \nQ 20.21875 -1.421875 15.453125 -0.5625 \nQ 10.6875 0.296875 5.421875 2 \nL 5.421875 11.28125 \nQ 10.40625 8.6875 15.234375 7.390625 \nQ 20.0625 6.109375 24.8125 6.109375 \nQ 31.15625 6.109375 34.5625 8.28125 \nQ 37.984375 10.453125 37.984375 14.40625 \nQ 37.984375 18.0625 35.515625 20.015625 \nQ 33.0625 21.96875 24.703125 23.78125 \nL 21.578125 24.515625 \nQ 13.234375 26.265625 9.515625 29.90625 \nQ 5.8125 33.546875 5.8125 39.890625 \nQ 5.8125 47.609375 11.28125 51.796875 \nQ 16.75 56 26.8125 56 \nQ 31.78125 56 36.171875 55.265625 \nQ 40.578125 54.546875 44.28125 53.078125 \nz\n\" id=\"DejaVuSans-115\"/>\n      <path d=\"M 56.203125 29.59375 \nL 56.203125 25.203125 \nL 14.890625 25.203125 \nQ 15.484375 15.921875 20.484375 11.0625 \nQ 25.484375 6.203125 34.421875 6.203125 \nQ 39.59375 6.203125 44.453125 7.46875 \nQ 49.3125 8.734375 54.109375 11.28125 \nL 54.109375 2.78125 \nQ 49.265625 0.734375 44.1875 -0.34375 \nQ 39.109375 -1.421875 33.890625 -1.421875 \nQ 20.796875 -1.421875 13.15625 6.1875 \nQ 5.515625 13.8125 5.515625 26.8125 \nQ 5.515625 40.234375 12.765625 48.109375 \nQ 20.015625 56 32.328125 56 \nQ 43.359375 56 49.78125 48.890625 \nQ 56.203125 41.796875 56.203125 29.59375 \nz\nM 47.21875 32.234375 \nQ 47.125 39.59375 43.09375 43.984375 \nQ 39.0625 48.390625 32.421875 48.390625 \nQ 24.90625 48.390625 20.390625 44.140625 \nQ 15.875 39.890625 15.1875 32.171875 \nz\n\" id=\"DejaVuSans-101\"/>\n      <path id=\"DejaVuSans-32\"/>\n      <path d=\"M 52 44.1875 \nQ 55.375 50.25 60.0625 53.125 \nQ 64.75 56 71.09375 56 \nQ 79.640625 56 84.28125 50.015625 \nQ 88.921875 44.046875 88.921875 33.015625 \nL 88.921875 0 \nL 79.890625 0 \nL 79.890625 32.71875 \nQ 79.890625 40.578125 77.09375 44.375 \nQ 74.3125 48.1875 68.609375 48.1875 \nQ 61.625 48.1875 57.5625 43.546875 \nQ 53.515625 38.921875 53.515625 30.90625 \nL 53.515625 0 \nL 44.484375 0 \nL 44.484375 32.71875 \nQ 44.484375 40.625 41.703125 44.40625 \nQ 38.921875 48.1875 33.109375 48.1875 \nQ 26.21875 48.1875 22.15625 43.53125 \nQ 18.109375 38.875 18.109375 30.90625 \nL 18.109375 0 \nL 9.078125 0 \nL 9.078125 54.6875 \nL 18.109375 54.6875 \nL 18.109375 46.1875 \nQ 21.1875 51.21875 25.484375 53.609375 \nQ 29.78125 56 35.6875 56 \nQ 41.65625 56 45.828125 52.96875 \nQ 50 49.953125 52 44.1875 \nz\n\" id=\"DejaVuSans-109\"/>\n      <path d=\"M 18.109375 8.203125 \nL 18.109375 -20.796875 \nL 9.078125 -20.796875 \nL 9.078125 54.6875 \nL 18.109375 54.6875 \nL 18.109375 46.390625 \nQ 20.953125 51.265625 25.265625 53.625 \nQ 29.59375 56 35.59375 56 \nQ 45.5625 56 51.78125 48.09375 \nQ 58.015625 40.1875 58.015625 27.296875 \nQ 58.015625 14.40625 51.78125 6.484375 \nQ 45.5625 -1.421875 35.59375 -1.421875 \nQ 29.59375 -1.421875 25.265625 0.953125 \nQ 20.953125 3.328125 18.109375 8.203125 \nz\nM 48.6875 27.296875 \nQ 48.6875 37.203125 44.609375 42.84375 \nQ 40.53125 48.484375 33.40625 48.484375 \nQ 26.265625 48.484375 22.1875 42.84375 \nQ 18.109375 37.203125 18.109375 27.296875 \nQ 18.109375 17.390625 22.1875 11.75 \nQ 26.265625 6.109375 33.40625 6.109375 \nQ 40.53125 6.109375 44.609375 11.75 \nQ 48.6875 17.390625 48.6875 27.296875 \nz\n\" id=\"DejaVuSans-112\"/>\n      <path d=\"M 9.421875 75.984375 \nL 18.40625 75.984375 \nL 18.40625 0 \nL 9.421875 0 \nz\n\" id=\"DejaVuSans-108\"/>\n     </defs>\n     <use xlink:href=\"#DejaVuSans-68\"/>\n     <use x=\"77.001953\" xlink:href=\"#DejaVuSans-97\"/>\n     <use x=\"138.28125\" xlink:href=\"#DejaVuSans-116\"/>\n     <use x=\"177.490234\" xlink:href=\"#DejaVuSans-97\"/>\n     <use x=\"238.769531\" xlink:href=\"#DejaVuSans-115\"/>\n     <use x=\"290.869141\" xlink:href=\"#DejaVuSans-101\"/>\n     <use x=\"352.392578\" xlink:href=\"#DejaVuSans-116\"/>\n     <use x=\"391.601562\" xlink:href=\"#DejaVuSans-32\"/>\n     <use x=\"423.388672\" xlink:href=\"#DejaVuSans-115\"/>\n     <use x=\"475.488281\" xlink:href=\"#DejaVuSans-97\"/>\n     <use x=\"536.767578\" xlink:href=\"#DejaVuSans-109\"/>\n     <use x=\"634.179688\" xlink:href=\"#DejaVuSans-112\"/>\n     <use x=\"697.65625\" xlink:href=\"#DejaVuSans-108\"/>\n     <use x=\"725.439453\" xlink:href=\"#DejaVuSans-101\"/>\n     <use x=\"786.962891\" xlink:href=\"#DejaVuSans-115\"/>\n    </g>\n   </g>\n   <g id=\"legend_1\">\n    <g id=\"patch_7\">\n     <path d=\"M 201.115 147.21625 \nL 268.963437 147.21625 \nQ 270.963437 147.21625 270.963437 145.21625 \nL 270.963437 116.86 \nQ 270.963437 114.86 268.963437 114.86 \nL 201.115 114.86 \nQ 199.115 114.86 199.115 116.86 \nL 199.115 145.21625 \nQ 199.115 147.21625 201.115 147.21625 \nz\n\" style=\"fill:#ffffff;opacity:0.8;stroke:#cccccc;stroke-linejoin:miter;\"/>\n    </g>\n    <g id=\"PathCollection_3\">\n     <g>\n      <use style=\"fill:#1f77b4;stroke:#333333;\" x=\"213.115\" xlink:href=\"#m6d59e6018e\" y=\"123.833437\"/>\n     </g>\n    </g>\n    <g id=\"text_18\">\n     <!-- Class 0 -->\n     <g transform=\"translate(231.115 126.458437)scale(0.1 -0.1)\">\n      <defs>\n       <path d=\"M 64.40625 67.28125 \nL 64.40625 56.890625 \nQ 59.421875 61.53125 53.78125 63.8125 \nQ 48.140625 66.109375 41.796875 66.109375 \nQ 29.296875 66.109375 22.65625 58.46875 \nQ 16.015625 50.828125 16.015625 36.375 \nQ 16.015625 21.96875 22.65625 14.328125 \nQ 29.296875 6.6875 41.796875 6.6875 \nQ 48.140625 6.6875 53.78125 8.984375 \nQ 59.421875 11.28125 64.40625 15.921875 \nL 64.40625 5.609375 \nQ 59.234375 2.09375 53.4375 0.328125 \nQ 47.65625 -1.421875 41.21875 -1.421875 \nQ 24.65625 -1.421875 15.125 8.703125 \nQ 5.609375 18.84375 5.609375 36.375 \nQ 5.609375 53.953125 15.125 64.078125 \nQ 24.65625 74.21875 41.21875 74.21875 \nQ 47.75 74.21875 53.53125 72.484375 \nQ 59.328125 70.75 64.40625 67.28125 \nz\n\" id=\"DejaVuSans-67\"/>\n      </defs>\n      <use xlink:href=\"#DejaVuSans-67\"/>\n      <use x=\"69.824219\" xlink:href=\"#DejaVuSans-108\"/>\n      <use x=\"97.607422\" xlink:href=\"#DejaVuSans-97\"/>\n      <use x=\"158.886719\" xlink:href=\"#DejaVuSans-115\"/>\n      <use x=\"210.986328\" xlink:href=\"#DejaVuSans-115\"/>\n      <use x=\"263.085938\" xlink:href=\"#DejaVuSans-32\"/>\n      <use x=\"294.873047\" xlink:href=\"#DejaVuSans-48\"/>\n     </g>\n    </g>\n    <g id=\"PathCollection_4\">\n     <g>\n      <use style=\"fill:#ff7f0e;stroke:#333333;\" x=\"213.115\" xlink:href=\"#m34b3b80548\" y=\"138.511562\"/>\n     </g>\n    </g>\n    <g id=\"text_19\">\n     <!-- Class 1 -->\n     <g transform=\"translate(231.115 141.136562)scale(0.1 -0.1)\">\n      <use xlink:href=\"#DejaVuSans-67\"/>\n      <use x=\"69.824219\" xlink:href=\"#DejaVuSans-108\"/>\n      <use x=\"97.607422\" xlink:href=\"#DejaVuSans-97\"/>\n      <use x=\"158.886719\" xlink:href=\"#DejaVuSans-115\"/>\n      <use x=\"210.986328\" xlink:href=\"#DejaVuSans-115\"/>\n      <use x=\"263.085938\" xlink:href=\"#DejaVuSans-32\"/>\n      <use x=\"294.873047\" xlink:href=\"#DejaVuSans-49\"/>\n     </g>\n    </g>\n   </g>\n  </g>\n </g>\n <defs>\n  <clipPath id=\"p5514d58729\">\n   <rect height=\"217.44\" width=\"217.44\" x=\"58.523438\" y=\"22.318125\"/>\n  </clipPath>\n </defs>\n</svg>\n",
      "text/plain": [
       "<Figure size 288x288 with 1 Axes>"
      ]
     },
     "metadata": {
      "needs_background": "light"
     },
     "output_type": "display_data"
    }
   ],
   "source": [
    "@torch.no_grad()  # Decorator, same effect as \"with torch.no_grad(): ...\" over the whole function.\n",
    "def visualize_classification(model, data, label):\n",
    "    if isinstance(data, torch.Tensor):\n",
    "        data = data.cpu().numpy()\n",
    "    if isinstance(label, torch.Tensor):\n",
    "        label = label.cpu().numpy()\n",
    "    data_0 = data[label == 0]\n",
    "    data_1 = data[label == 1]\n",
    "\n",
    "    plt.figure(figsize=(4, 4))\n",
    "    plt.scatter(data_0[:, 0], data_0[:, 1], edgecolor=\"#333\", label=\"Class 0\")\n",
    "    plt.scatter(data_1[:, 0], data_1[:, 1], edgecolor=\"#333\", label=\"Class 1\")\n",
    "    plt.title(\"Dataset samples\")\n",
    "    plt.ylabel(r\"$x_2$\")\n",
    "    plt.xlabel(r\"$x_1$\")\n",
    "    plt.legend()\n",
    "\n",
    "    # Let's make use of a lot of operations we have learned above\n",
    "    model.to(device)\n",
    "    c0 = torch.Tensor(to_rgba(\"C0\")).to(device)\n",
    "    c1 = torch.Tensor(to_rgba(\"C1\")).to(device)\n",
    "    x1 = torch.arange(-0.5, 1.5, step=0.01, device=device)\n",
    "    x2 = torch.arange(-0.5, 1.5, step=0.01, device=device)\n",
    "    xx1, xx2 = torch.meshgrid(x1, x2)  # Meshgrid function as in numpy\n",
    "    model_inputs = torch.stack([xx1, xx2], dim=-1)\n",
    "    preds = model(model_inputs)\n",
    "    preds = torch.sigmoid(preds)\n",
    "    # Specifying \"None\" in a dimension creates a new one\n",
    "    output_image = (1 - preds) * c0[None, None] + preds * c1[None, None]\n",
    "    output_image = (\n",
    "        output_image.cpu().numpy()\n",
    "    )  # Convert to numpy array. This only works for tensors on CPU, hence first push to CPU\n",
    "    plt.imshow(output_image, origin=\"lower\", extent=(-0.5, 1.5, -0.5, 1.5))\n",
    "    plt.grid(False)\n",
    "\n",
    "\n",
    "visualize_classification(model, dataset.data, dataset.label)\n",
    "plt.show()"
   ]
  },
  {
   "cell_type": "code",
   "execution_count": null,
   "metadata": {},
   "outputs": [],
   "source": []
  }
 ],
 "metadata": {
  "interpreter": {
   "hash": "c2b3529b037898929dad0fe13c0e9b65bd0f0336de078cb2ddd2d768da784876"
  },
  "kernelspec": {
   "display_name": "Python 3.7.9 64-bit ('cuda': conda)",
   "language": "python",
   "name": "python3"
  },
  "language_info": {
   "codemirror_mode": {
    "name": "ipython",
    "version": 3
   },
   "file_extension": ".py",
   "mimetype": "text/x-python",
   "name": "python",
   "nbconvert_exporter": "python",
   "pygments_lexer": "ipython3",
   "version": "3.7.9"
  },
  "orig_nbformat": 4
 },
 "nbformat": 4,
 "nbformat_minor": 2
}
